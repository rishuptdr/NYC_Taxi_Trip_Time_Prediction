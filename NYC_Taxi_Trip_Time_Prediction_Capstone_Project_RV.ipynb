{
  "nbformat": 4,
  "nbformat_minor": 0,
  "metadata": {
    "kernelspec": {
      "display_name": "Python 3",
      "language": "python",
      "name": "python3"
    },
    "language_info": {
      "codemirror_mode": {
        "name": "ipython",
        "version": 3
      },
      "file_extension": ".py",
      "mimetype": "text/x-python",
      "name": "python",
      "nbconvert_exporter": "python",
      "pygments_lexer": "ipython3",
      "version": "3.6.6"
    },
    "colab": {
      "provenance": [],
      "collapsed_sections": [],
      "include_colab_link": true
    }
  },
  "cells": [
    {
      "cell_type": "markdown",
      "metadata": {
        "id": "view-in-github",
        "colab_type": "text"
      },
      "source": [
        "<a href=\"https://colab.research.google.com/github/rishuptdr/NYC_Taxi_Trip_Time_Prediction/blob/main/NYC_Taxi_Trip_Time_Prediction_Capstone_Project_RV.ipynb\" target=\"_parent\"><img src=\"https://colab.research.google.com/assets/colab-badge.svg\" alt=\"Open In Colab\"/></a>"
      ]
    },
    {
      "cell_type": "markdown",
      "metadata": {
        "id": "tOGC-qoyhJeX"
      },
      "source": [
        "# <b><u> Project Title : Taxi trip time Prediction : Predicting total ride duration of taxi trips in New York City</u></b>"
      ]
    },
    {
      "cell_type": "markdown",
      "metadata": {
        "id": "Y06xIdG26kRF"
      },
      "source": [
        "## <b> Problem Description </b>\n",
        "\n",
        "### our task is to build a model that predicts the total ride duration of taxi trips in New York City. "
      ]
    },
    {
      "cell_type": "markdown",
      "metadata": {
        "id": "WWeU1f9bwqQq"
      },
      "source": [
        "## <b> Data Description </b>\n",
        "\n",
        "### The dataset is based on the 2016 NYC Yellow Cab trip record data made available in Big Query on Google Cloud Platform. The data was originally published by the NYC Taxi and Limousine Commission (TLC). The data was sampled and cleaned for the purposes of this project. Based on individual trip attributes, you should predict the duration of each trip in the test set.\n",
        "\n",
        "### <b>NYC Taxi Data.csv</b> - the training set (contains 1458644 trip records)\n",
        "\n",
        "\n",
        "### Data fields\n",
        "* #### id - a unique identifier for each trip\n",
        "* #### vendor_id - a code indicating the provider associated with the trip record\n",
        "* #### pickup_datetime - date and time when the meter was engaged\n",
        "* #### dropoff_datetime - date and time when the meter was disengaged\n",
        "* #### passenger_count - the number of passengers in the vehicle (driver entered value)\n",
        "* #### pickup_longitude - the longitude where the meter was engaged\n",
        "* #### pickup_latitude - the latitude where the meter was engaged\n",
        "* #### dropoff_longitude - the longitude where the meter was disengaged\n",
        "* #### dropoff_latitude - the latitude where the meter was disengaged\n",
        "* #### store_and_fwd_flag - This flag indicates whether the trip record was held in vehicle memory before sending to the vendor because the vehicle did not have a connection to the server - Y=store and forward; N=not a store and forward trip\n",
        "* #### trip_duration - duration of the trip in seconds"
      ]
    },
    {
      "cell_type": "code",
      "metadata": {
        "id": "dByMsuzT8Tnw"
      },
      "source": [
        "import pandas as pd       #data processing\n",
        "import numpy as np        #linear algebra"
      ],
      "execution_count": null,
      "outputs": []
    },
    {
      "cell_type": "code",
      "source": [
        "#data visualisation\n",
        "import seaborn as sns     \n",
        "sns.set()\n",
        "import matplotlib.pyplot as plt\n",
        "%matplotlib inline\n",
        "import datetime as dt\n",
        "import warnings; warnings.simplefilter('ignore')\n"
      ],
      "metadata": {
        "id": "wCvpYsUkuD0L"
      },
      "execution_count": null,
      "outputs": []
    },
    {
      "cell_type": "code",
      "source": [],
      "metadata": {
        "id": "Q8vC19bp6qP8"
      },
      "execution_count": null,
      "outputs": []
    },
    {
      "cell_type": "code",
      "source": [
        "#some more \n",
        "\n",
        "import matplotlib.pyplot as plt\n",
        "import seaborn as sns\n",
        "from scipy.stats import norm\n",
        "from sklearn.preprocessing import StandardScaler\n",
        "from scipy import stats\n",
        "import warnings\n",
        "warnings.filterwarnings('ignore')\n",
        "import plotly.express as px\n",
        "from scipy.interpolate import interp1d"
      ],
      "metadata": {
        "id": "C2Md6OrquEja"
      },
      "execution_count": null,
      "outputs": []
    },
    {
      "cell_type": "code",
      "source": [
        "!pip install geopandas"
      ],
      "metadata": {
        "colab": {
          "base_uri": "https://localhost:8080/"
        },
        "id": "NTtFL6Fau5Ge",
        "outputId": "aceebb96-bdfe-454d-f7d1-9c6b837888b1"
      },
      "execution_count": null,
      "outputs": [
        {
          "output_type": "stream",
          "name": "stdout",
          "text": [
            "Looking in indexes: https://pypi.org/simple, https://us-python.pkg.dev/colab-wheels/public/simple/\n",
            "Collecting geopandas\n",
            "  Downloading geopandas-0.10.2-py2.py3-none-any.whl (1.0 MB)\n",
            "\u001b[K     |████████████████████████████████| 1.0 MB 4.1 MB/s \n",
            "\u001b[?25hCollecting fiona>=1.8\n",
            "  Downloading Fiona-1.8.21-cp37-cp37m-manylinux2014_x86_64.whl (16.7 MB)\n",
            "\u001b[K     |████████████████████████████████| 16.7 MB 66.2 MB/s \n",
            "\u001b[?25hRequirement already satisfied: pandas>=0.25.0 in /usr/local/lib/python3.7/dist-packages (from geopandas) (1.3.5)\n",
            "Requirement already satisfied: shapely>=1.6 in /usr/local/lib/python3.7/dist-packages (from geopandas) (1.8.4)\n",
            "Collecting pyproj>=2.2.0\n",
            "  Downloading pyproj-3.2.1-cp37-cp37m-manylinux2010_x86_64.whl (6.3 MB)\n",
            "\u001b[K     |████████████████████████████████| 6.3 MB 43.9 MB/s \n",
            "\u001b[?25hRequirement already satisfied: setuptools in /usr/local/lib/python3.7/dist-packages (from fiona>=1.8->geopandas) (57.4.0)\n",
            "Requirement already satisfied: attrs>=17 in /usr/local/lib/python3.7/dist-packages (from fiona>=1.8->geopandas) (22.1.0)\n",
            "Collecting click-plugins>=1.0\n",
            "  Downloading click_plugins-1.1.1-py2.py3-none-any.whl (7.5 kB)\n",
            "Requirement already satisfied: certifi in /usr/local/lib/python3.7/dist-packages (from fiona>=1.8->geopandas) (2022.6.15)\n",
            "Collecting cligj>=0.5\n",
            "  Downloading cligj-0.7.2-py3-none-any.whl (7.1 kB)\n",
            "Requirement already satisfied: six>=1.7 in /usr/local/lib/python3.7/dist-packages (from fiona>=1.8->geopandas) (1.15.0)\n",
            "Requirement already satisfied: click>=4.0 in /usr/local/lib/python3.7/dist-packages (from fiona>=1.8->geopandas) (7.1.2)\n",
            "Collecting munch\n",
            "  Downloading munch-2.5.0-py2.py3-none-any.whl (10 kB)\n",
            "Requirement already satisfied: python-dateutil>=2.7.3 in /usr/local/lib/python3.7/dist-packages (from pandas>=0.25.0->geopandas) (2.8.2)\n",
            "Requirement already satisfied: numpy>=1.17.3 in /usr/local/lib/python3.7/dist-packages (from pandas>=0.25.0->geopandas) (1.21.6)\n",
            "Requirement already satisfied: pytz>=2017.3 in /usr/local/lib/python3.7/dist-packages (from pandas>=0.25.0->geopandas) (2022.2.1)\n",
            "Installing collected packages: munch, cligj, click-plugins, pyproj, fiona, geopandas\n",
            "Successfully installed click-plugins-1.1.1 cligj-0.7.2 fiona-1.8.21 geopandas-0.10.2 munch-2.5.0 pyproj-3.2.1\n"
          ]
        }
      ]
    },
    {
      "cell_type": "markdown",
      "source": [
        "#Import relevent data"
      ],
      "metadata": {
        "id": "CL01ZGYvuxcm"
      }
    },
    {
      "cell_type": "code",
      "source": [
        "# import relevant packages\n",
        "import geopandas as gpd\n",
        "import pandas as pd\n",
        "import matplotlib.pyplot as plt"
      ],
      "metadata": {
        "id": "hEnBiWDLupn5"
      },
      "execution_count": null,
      "outputs": []
    },
    {
      "cell_type": "code",
      "source": [
        "from google.colab import drive\n",
        "drive.mount('/content/drive')"
      ],
      "metadata": {
        "colab": {
          "base_uri": "https://localhost:8080/"
        },
        "id": "LkjspFdzu0-T",
        "outputId": "e5283f2a-986b-484a-83cb-dcd8bcbeab43"
      },
      "execution_count": null,
      "outputs": [
        {
          "output_type": "stream",
          "name": "stdout",
          "text": [
            "Mounted at /content/drive\n"
          ]
        }
      ]
    },
    {
      "cell_type": "code",
      "source": [
        "file_path= \"/content/drive/MyDrive/Yoti/Copy of NYC Taxi Data.csv\"\n",
        "df= pd.read_csv(file_path)"
      ],
      "metadata": {
        "id": "H-EozgacvAnB"
      },
      "execution_count": null,
      "outputs": []
    },
    {
      "cell_type": "code",
      "source": [
        "df.head(10)"
      ],
      "metadata": {
        "id": "m5n8FQ3KvN6f",
        "colab": {
          "base_uri": "https://localhost:8080/",
          "height": 600
        },
        "outputId": "0d8351c2-a147-4d95-c13a-ebe1126d89fa"
      },
      "execution_count": null,
      "outputs": [
        {
          "output_type": "execute_result",
          "data": {
            "text/plain": [
              "          id  vendor_id      pickup_datetime     dropoff_datetime  \\\n",
              "0  id2875421          2  2016-03-14 17:24:55  2016-03-14 17:32:30   \n",
              "1  id2377394          1  2016-06-12 00:43:35  2016-06-12 00:54:38   \n",
              "2  id3858529          2  2016-01-19 11:35:24  2016-01-19 12:10:48   \n",
              "3  id3504673          2  2016-04-06 19:32:31  2016-04-06 19:39:40   \n",
              "4  id2181028          2  2016-03-26 13:30:55  2016-03-26 13:38:10   \n",
              "5  id0801584          2  2016-01-30 22:01:40  2016-01-30 22:09:03   \n",
              "6  id1813257          1  2016-06-17 22:34:59  2016-06-17 22:40:40   \n",
              "7  id1324603          2  2016-05-21 07:54:58  2016-05-21 08:20:49   \n",
              "8  id1301050          1  2016-05-27 23:12:23  2016-05-27 23:16:38   \n",
              "9  id0012891          2  2016-03-10 21:45:01  2016-03-10 22:05:26   \n",
              "\n",
              "   passenger_count  pickup_longitude  pickup_latitude  dropoff_longitude  \\\n",
              "0                1        -73.982155        40.767937         -73.964630   \n",
              "1                1        -73.980415        40.738564         -73.999481   \n",
              "2                1        -73.979027        40.763939         -74.005333   \n",
              "3                1        -74.010040        40.719971         -74.012268   \n",
              "4                1        -73.973053        40.793209         -73.972923   \n",
              "5                6        -73.982857        40.742195         -73.992081   \n",
              "6                4        -73.969017        40.757839         -73.957405   \n",
              "7                1        -73.969276        40.797779         -73.922470   \n",
              "8                1        -73.999481        40.738400         -73.985786   \n",
              "9                1        -73.981049        40.744339         -73.973000   \n",
              "\n",
              "   dropoff_latitude store_and_fwd_flag  trip_duration  \n",
              "0         40.765602                  N            455  \n",
              "1         40.731152                  N            663  \n",
              "2         40.710087                  N           2124  \n",
              "3         40.706718                  N            429  \n",
              "4         40.782520                  N            435  \n",
              "5         40.749184                  N            443  \n",
              "6         40.765896                  N            341  \n",
              "7         40.760559                  N           1551  \n",
              "8         40.732815                  N            255  \n",
              "9         40.789989                  N           1225  "
            ],
            "text/html": [
              "\n",
              "  <div id=\"df-71cb1df0-8fdb-4b81-98fa-e7a3d3337e2a\">\n",
              "    <div class=\"colab-df-container\">\n",
              "      <div>\n",
              "<style scoped>\n",
              "    .dataframe tbody tr th:only-of-type {\n",
              "        vertical-align: middle;\n",
              "    }\n",
              "\n",
              "    .dataframe tbody tr th {\n",
              "        vertical-align: top;\n",
              "    }\n",
              "\n",
              "    .dataframe thead th {\n",
              "        text-align: right;\n",
              "    }\n",
              "</style>\n",
              "<table border=\"1\" class=\"dataframe\">\n",
              "  <thead>\n",
              "    <tr style=\"text-align: right;\">\n",
              "      <th></th>\n",
              "      <th>id</th>\n",
              "      <th>vendor_id</th>\n",
              "      <th>pickup_datetime</th>\n",
              "      <th>dropoff_datetime</th>\n",
              "      <th>passenger_count</th>\n",
              "      <th>pickup_longitude</th>\n",
              "      <th>pickup_latitude</th>\n",
              "      <th>dropoff_longitude</th>\n",
              "      <th>dropoff_latitude</th>\n",
              "      <th>store_and_fwd_flag</th>\n",
              "      <th>trip_duration</th>\n",
              "    </tr>\n",
              "  </thead>\n",
              "  <tbody>\n",
              "    <tr>\n",
              "      <th>0</th>\n",
              "      <td>id2875421</td>\n",
              "      <td>2</td>\n",
              "      <td>2016-03-14 17:24:55</td>\n",
              "      <td>2016-03-14 17:32:30</td>\n",
              "      <td>1</td>\n",
              "      <td>-73.982155</td>\n",
              "      <td>40.767937</td>\n",
              "      <td>-73.964630</td>\n",
              "      <td>40.765602</td>\n",
              "      <td>N</td>\n",
              "      <td>455</td>\n",
              "    </tr>\n",
              "    <tr>\n",
              "      <th>1</th>\n",
              "      <td>id2377394</td>\n",
              "      <td>1</td>\n",
              "      <td>2016-06-12 00:43:35</td>\n",
              "      <td>2016-06-12 00:54:38</td>\n",
              "      <td>1</td>\n",
              "      <td>-73.980415</td>\n",
              "      <td>40.738564</td>\n",
              "      <td>-73.999481</td>\n",
              "      <td>40.731152</td>\n",
              "      <td>N</td>\n",
              "      <td>663</td>\n",
              "    </tr>\n",
              "    <tr>\n",
              "      <th>2</th>\n",
              "      <td>id3858529</td>\n",
              "      <td>2</td>\n",
              "      <td>2016-01-19 11:35:24</td>\n",
              "      <td>2016-01-19 12:10:48</td>\n",
              "      <td>1</td>\n",
              "      <td>-73.979027</td>\n",
              "      <td>40.763939</td>\n",
              "      <td>-74.005333</td>\n",
              "      <td>40.710087</td>\n",
              "      <td>N</td>\n",
              "      <td>2124</td>\n",
              "    </tr>\n",
              "    <tr>\n",
              "      <th>3</th>\n",
              "      <td>id3504673</td>\n",
              "      <td>2</td>\n",
              "      <td>2016-04-06 19:32:31</td>\n",
              "      <td>2016-04-06 19:39:40</td>\n",
              "      <td>1</td>\n",
              "      <td>-74.010040</td>\n",
              "      <td>40.719971</td>\n",
              "      <td>-74.012268</td>\n",
              "      <td>40.706718</td>\n",
              "      <td>N</td>\n",
              "      <td>429</td>\n",
              "    </tr>\n",
              "    <tr>\n",
              "      <th>4</th>\n",
              "      <td>id2181028</td>\n",
              "      <td>2</td>\n",
              "      <td>2016-03-26 13:30:55</td>\n",
              "      <td>2016-03-26 13:38:10</td>\n",
              "      <td>1</td>\n",
              "      <td>-73.973053</td>\n",
              "      <td>40.793209</td>\n",
              "      <td>-73.972923</td>\n",
              "      <td>40.782520</td>\n",
              "      <td>N</td>\n",
              "      <td>435</td>\n",
              "    </tr>\n",
              "    <tr>\n",
              "      <th>5</th>\n",
              "      <td>id0801584</td>\n",
              "      <td>2</td>\n",
              "      <td>2016-01-30 22:01:40</td>\n",
              "      <td>2016-01-30 22:09:03</td>\n",
              "      <td>6</td>\n",
              "      <td>-73.982857</td>\n",
              "      <td>40.742195</td>\n",
              "      <td>-73.992081</td>\n",
              "      <td>40.749184</td>\n",
              "      <td>N</td>\n",
              "      <td>443</td>\n",
              "    </tr>\n",
              "    <tr>\n",
              "      <th>6</th>\n",
              "      <td>id1813257</td>\n",
              "      <td>1</td>\n",
              "      <td>2016-06-17 22:34:59</td>\n",
              "      <td>2016-06-17 22:40:40</td>\n",
              "      <td>4</td>\n",
              "      <td>-73.969017</td>\n",
              "      <td>40.757839</td>\n",
              "      <td>-73.957405</td>\n",
              "      <td>40.765896</td>\n",
              "      <td>N</td>\n",
              "      <td>341</td>\n",
              "    </tr>\n",
              "    <tr>\n",
              "      <th>7</th>\n",
              "      <td>id1324603</td>\n",
              "      <td>2</td>\n",
              "      <td>2016-05-21 07:54:58</td>\n",
              "      <td>2016-05-21 08:20:49</td>\n",
              "      <td>1</td>\n",
              "      <td>-73.969276</td>\n",
              "      <td>40.797779</td>\n",
              "      <td>-73.922470</td>\n",
              "      <td>40.760559</td>\n",
              "      <td>N</td>\n",
              "      <td>1551</td>\n",
              "    </tr>\n",
              "    <tr>\n",
              "      <th>8</th>\n",
              "      <td>id1301050</td>\n",
              "      <td>1</td>\n",
              "      <td>2016-05-27 23:12:23</td>\n",
              "      <td>2016-05-27 23:16:38</td>\n",
              "      <td>1</td>\n",
              "      <td>-73.999481</td>\n",
              "      <td>40.738400</td>\n",
              "      <td>-73.985786</td>\n",
              "      <td>40.732815</td>\n",
              "      <td>N</td>\n",
              "      <td>255</td>\n",
              "    </tr>\n",
              "    <tr>\n",
              "      <th>9</th>\n",
              "      <td>id0012891</td>\n",
              "      <td>2</td>\n",
              "      <td>2016-03-10 21:45:01</td>\n",
              "      <td>2016-03-10 22:05:26</td>\n",
              "      <td>1</td>\n",
              "      <td>-73.981049</td>\n",
              "      <td>40.744339</td>\n",
              "      <td>-73.973000</td>\n",
              "      <td>40.789989</td>\n",
              "      <td>N</td>\n",
              "      <td>1225</td>\n",
              "    </tr>\n",
              "  </tbody>\n",
              "</table>\n",
              "</div>\n",
              "      <button class=\"colab-df-convert\" onclick=\"convertToInteractive('df-71cb1df0-8fdb-4b81-98fa-e7a3d3337e2a')\"\n",
              "              title=\"Convert this dataframe to an interactive table.\"\n",
              "              style=\"display:none;\">\n",
              "        \n",
              "  <svg xmlns=\"http://www.w3.org/2000/svg\" height=\"24px\"viewBox=\"0 0 24 24\"\n",
              "       width=\"24px\">\n",
              "    <path d=\"M0 0h24v24H0V0z\" fill=\"none\"/>\n",
              "    <path d=\"M18.56 5.44l.94 2.06.94-2.06 2.06-.94-2.06-.94-.94-2.06-.94 2.06-2.06.94zm-11 1L8.5 8.5l.94-2.06 2.06-.94-2.06-.94L8.5 2.5l-.94 2.06-2.06.94zm10 10l.94 2.06.94-2.06 2.06-.94-2.06-.94-.94-2.06-.94 2.06-2.06.94z\"/><path d=\"M17.41 7.96l-1.37-1.37c-.4-.4-.92-.59-1.43-.59-.52 0-1.04.2-1.43.59L10.3 9.45l-7.72 7.72c-.78.78-.78 2.05 0 2.83L4 21.41c.39.39.9.59 1.41.59.51 0 1.02-.2 1.41-.59l7.78-7.78 2.81-2.81c.8-.78.8-2.07 0-2.86zM5.41 20L4 18.59l7.72-7.72 1.47 1.35L5.41 20z\"/>\n",
              "  </svg>\n",
              "      </button>\n",
              "      \n",
              "  <style>\n",
              "    .colab-df-container {\n",
              "      display:flex;\n",
              "      flex-wrap:wrap;\n",
              "      gap: 12px;\n",
              "    }\n",
              "\n",
              "    .colab-df-convert {\n",
              "      background-color: #E8F0FE;\n",
              "      border: none;\n",
              "      border-radius: 50%;\n",
              "      cursor: pointer;\n",
              "      display: none;\n",
              "      fill: #1967D2;\n",
              "      height: 32px;\n",
              "      padding: 0 0 0 0;\n",
              "      width: 32px;\n",
              "    }\n",
              "\n",
              "    .colab-df-convert:hover {\n",
              "      background-color: #E2EBFA;\n",
              "      box-shadow: 0px 1px 2px rgba(60, 64, 67, 0.3), 0px 1px 3px 1px rgba(60, 64, 67, 0.15);\n",
              "      fill: #174EA6;\n",
              "    }\n",
              "\n",
              "    [theme=dark] .colab-df-convert {\n",
              "      background-color: #3B4455;\n",
              "      fill: #D2E3FC;\n",
              "    }\n",
              "\n",
              "    [theme=dark] .colab-df-convert:hover {\n",
              "      background-color: #434B5C;\n",
              "      box-shadow: 0px 1px 3px 1px rgba(0, 0, 0, 0.15);\n",
              "      filter: drop-shadow(0px 1px 2px rgba(0, 0, 0, 0.3));\n",
              "      fill: #FFFFFF;\n",
              "    }\n",
              "  </style>\n",
              "\n",
              "      <script>\n",
              "        const buttonEl =\n",
              "          document.querySelector('#df-71cb1df0-8fdb-4b81-98fa-e7a3d3337e2a button.colab-df-convert');\n",
              "        buttonEl.style.display =\n",
              "          google.colab.kernel.accessAllowed ? 'block' : 'none';\n",
              "\n",
              "        async function convertToInteractive(key) {\n",
              "          const element = document.querySelector('#df-71cb1df0-8fdb-4b81-98fa-e7a3d3337e2a');\n",
              "          const dataTable =\n",
              "            await google.colab.kernel.invokeFunction('convertToInteractive',\n",
              "                                                     [key], {});\n",
              "          if (!dataTable) return;\n",
              "\n",
              "          const docLinkHtml = 'Like what you see? Visit the ' +\n",
              "            '<a target=\"_blank\" href=https://colab.research.google.com/notebooks/data_table.ipynb>data table notebook</a>'\n",
              "            + ' to learn more about interactive tables.';\n",
              "          element.innerHTML = '';\n",
              "          dataTable['output_type'] = 'display_data';\n",
              "          await google.colab.output.renderOutput(dataTable, element);\n",
              "          const docLink = document.createElement('div');\n",
              "          docLink.innerHTML = docLinkHtml;\n",
              "          element.appendChild(docLink);\n",
              "        }\n",
              "      </script>\n",
              "    </div>\n",
              "  </div>\n",
              "  "
            ]
          },
          "metadata": {},
          "execution_count": 8
        }
      ]
    },
    {
      "cell_type": "markdown",
      "source": [
        "##To know if there is any missing value or Nan value in the dataset, we can use the isnull() function."
      ],
      "metadata": {
        "id": "TsPSdpQsrEh6"
      }
    },
    {
      "cell_type": "code",
      "source": [
        "df.isnull().sum()"
      ],
      "metadata": {
        "id": "o2M8DA3rvS1H",
        "colab": {
          "base_uri": "https://localhost:8080/"
        },
        "outputId": "b741de2c-5800-4f7a-adc7-55aa1635653b"
      },
      "execution_count": null,
      "outputs": [
        {
          "output_type": "execute_result",
          "data": {
            "text/plain": [
              "id                    0\n",
              "vendor_id             0\n",
              "pickup_datetime       0\n",
              "dropoff_datetime      0\n",
              "passenger_count       0\n",
              "pickup_longitude      0\n",
              "pickup_latitude       0\n",
              "dropoff_longitude     0\n",
              "dropoff_latitude      0\n",
              "store_and_fwd_flag    0\n",
              "trip_duration         0\n",
              "dtype: int64"
            ]
          },
          "metadata": {},
          "execution_count": 9
        }
      ]
    },
    {
      "cell_type": "markdown",
      "source": [
        "There are no null values in this dataset which saves us a step of imputing."
      ],
      "metadata": {
        "id": "R8N8hqOrx8fY"
      }
    },
    {
      "cell_type": "markdown",
      "source": [
        "###Let us check for unique values of all columns."
      ],
      "metadata": {
        "id": "GttikHWeyBCz"
      }
    },
    {
      "cell_type": "code",
      "source": [
        "df.nunique()"
      ],
      "metadata": {
        "id": "tBQKEJOByDTq",
        "colab": {
          "base_uri": "https://localhost:8080/"
        },
        "outputId": "4a1e5704-7cc0-4c7d-bd92-af47775e4c1c"
      },
      "execution_count": null,
      "outputs": [
        {
          "output_type": "execute_result",
          "data": {
            "text/plain": [
              "id                    1458644\n",
              "vendor_id                   2\n",
              "pickup_datetime       1380222\n",
              "dropoff_datetime      1380377\n",
              "passenger_count            10\n",
              "pickup_longitude        23047\n",
              "pickup_latitude         45245\n",
              "dropoff_longitude       33821\n",
              "dropoff_latitude        62519\n",
              "store_and_fwd_flag          2\n",
              "trip_duration            7417\n",
              "dtype: int64"
            ]
          },
          "metadata": {},
          "execution_count": 10
        }
      ]
    },
    {
      "cell_type": "markdown",
      "source": [
        "We see that id has 1458644 unique values which are equal to the number of rows in our dataset.\n",
        "There are 2 unique vendor ids.\n",
        "There are 10 unique passenger counts.\n",
        "There are 2 unique values for store_and_fwd_flag, that we also saw in the description of the variables, which are Y and N."
      ],
      "metadata": {
        "id": "L8niA_OoyQ3w"
      }
    },
    {
      "cell_type": "code",
      "source": [
        "df.shape\n"
      ],
      "metadata": {
        "id": "xmEwZ84Lvanf",
        "colab": {
          "base_uri": "https://localhost:8080/"
        },
        "outputId": "8677a15b-376c-4565-ee86-b2b1302b884c"
      },
      "execution_count": null,
      "outputs": [
        {
          "output_type": "execute_result",
          "data": {
            "text/plain": [
              "(1458644, 11)"
            ]
          },
          "metadata": {},
          "execution_count": 11
        }
      ]
    },
    {
      "cell_type": "markdown",
      "source": [
        "We see the shape of the dataset is (1458644, 11) which essentially means that there are 1458644 rows and 11 columns in the dataset.\n",
        "\n",
        "Now let’s see what are those 11 columns."
      ],
      "metadata": {
        "id": "ffUzCkNmvx8v"
      }
    },
    {
      "cell_type": "code",
      "source": [
        "df.columns"
      ],
      "metadata": {
        "id": "ZU7yGhP8vnXB",
        "colab": {
          "base_uri": "https://localhost:8080/"
        },
        "outputId": "4b43dbb2-512c-4229-9ff3-6dabb70705d6"
      },
      "execution_count": null,
      "outputs": [
        {
          "output_type": "execute_result",
          "data": {
            "text/plain": [
              "Index(['id', 'vendor_id', 'pickup_datetime', 'dropoff_datetime',\n",
              "       'passenger_count', 'pickup_longitude', 'pickup_latitude',\n",
              "       'dropoff_longitude', 'dropoff_latitude', 'store_and_fwd_flag',\n",
              "       'trip_duration'],\n",
              "      dtype='object')"
            ]
          },
          "metadata": {},
          "execution_count": 12
        }
      ]
    },
    {
      "cell_type": "code",
      "source": [
        "df.dtypes"
      ],
      "metadata": {
        "id": "vT3FqKbEwbJw",
        "colab": {
          "base_uri": "https://localhost:8080/"
        },
        "outputId": "cdcaceef-b590-4298-9abc-8d34f0b282fd"
      },
      "execution_count": null,
      "outputs": [
        {
          "output_type": "execute_result",
          "data": {
            "text/plain": [
              "id                     object\n",
              "vendor_id               int64\n",
              "pickup_datetime        object\n",
              "dropoff_datetime       object\n",
              "passenger_count         int64\n",
              "pickup_longitude      float64\n",
              "pickup_latitude       float64\n",
              "dropoff_longitude     float64\n",
              "dropoff_latitude      float64\n",
              "store_and_fwd_flag     object\n",
              "trip_duration           int64\n",
              "dtype: object"
            ]
          },
          "metadata": {},
          "execution_count": 13
        }
      ]
    },
    {
      "cell_type": "markdown",
      "source": [
        "We have id, pickup_datetime, dropoff_datetime, and store_and_fwd_flag of the type ‘object’.\n",
        "vendor_id, passenger_count, and trip_duration are of type int.\n",
        "pickup_longitude, pickup_latitude, dropoff_longitude, and dropoff_latitude are of type float."
      ],
      "metadata": {
        "id": "ImK7I77dwtq5"
      }
    },
    {
      "cell_type": "markdown",
      "source": [
        "###Let us finally check for a statistical summary of our dataset.\n",
        "Note that this function can provide statistics for numerical features only."
      ],
      "metadata": {
        "id": "Thsk9dfUyjSN"
      }
    },
    {
      "cell_type": "code",
      "source": [
        "df.describe()"
      ],
      "metadata": {
        "id": "oS8kHR48ynAI",
        "colab": {
          "base_uri": "https://localhost:8080/",
          "height": 300
        },
        "outputId": "869c6d60-1b1b-4df5-d898-dc575961f5bd"
      },
      "execution_count": null,
      "outputs": [
        {
          "output_type": "execute_result",
          "data": {
            "text/plain": [
              "          vendor_id  passenger_count  pickup_longitude  pickup_latitude  \\\n",
              "count  1.458644e+06     1.458644e+06      1.458644e+06     1.458644e+06   \n",
              "mean   1.534950e+00     1.664530e+00     -7.397349e+01     4.075092e+01   \n",
              "std    4.987772e-01     1.314242e+00      7.090186e-02     3.288119e-02   \n",
              "min    1.000000e+00     0.000000e+00     -1.219333e+02     3.435970e+01   \n",
              "25%    1.000000e+00     1.000000e+00     -7.399187e+01     4.073735e+01   \n",
              "50%    2.000000e+00     1.000000e+00     -7.398174e+01     4.075410e+01   \n",
              "75%    2.000000e+00     2.000000e+00     -7.396733e+01     4.076836e+01   \n",
              "max    2.000000e+00     9.000000e+00     -6.133553e+01     5.188108e+01   \n",
              "\n",
              "       dropoff_longitude  dropoff_latitude  trip_duration  \n",
              "count       1.458644e+06      1.458644e+06   1.458644e+06  \n",
              "mean       -7.397342e+01      4.075180e+01   9.594923e+02  \n",
              "std         7.064327e-02      3.589056e-02   5.237432e+03  \n",
              "min        -1.219333e+02      3.218114e+01   1.000000e+00  \n",
              "25%        -7.399133e+01      4.073588e+01   3.970000e+02  \n",
              "50%        -7.397975e+01      4.075452e+01   6.620000e+02  \n",
              "75%        -7.396301e+01      4.076981e+01   1.075000e+03  \n",
              "max        -6.133553e+01      4.392103e+01   3.526282e+06  "
            ],
            "text/html": [
              "\n",
              "  <div id=\"df-f6230f26-fc27-4a08-b2b8-873e598d0664\">\n",
              "    <div class=\"colab-df-container\">\n",
              "      <div>\n",
              "<style scoped>\n",
              "    .dataframe tbody tr th:only-of-type {\n",
              "        vertical-align: middle;\n",
              "    }\n",
              "\n",
              "    .dataframe tbody tr th {\n",
              "        vertical-align: top;\n",
              "    }\n",
              "\n",
              "    .dataframe thead th {\n",
              "        text-align: right;\n",
              "    }\n",
              "</style>\n",
              "<table border=\"1\" class=\"dataframe\">\n",
              "  <thead>\n",
              "    <tr style=\"text-align: right;\">\n",
              "      <th></th>\n",
              "      <th>vendor_id</th>\n",
              "      <th>passenger_count</th>\n",
              "      <th>pickup_longitude</th>\n",
              "      <th>pickup_latitude</th>\n",
              "      <th>dropoff_longitude</th>\n",
              "      <th>dropoff_latitude</th>\n",
              "      <th>trip_duration</th>\n",
              "    </tr>\n",
              "  </thead>\n",
              "  <tbody>\n",
              "    <tr>\n",
              "      <th>count</th>\n",
              "      <td>1.458644e+06</td>\n",
              "      <td>1.458644e+06</td>\n",
              "      <td>1.458644e+06</td>\n",
              "      <td>1.458644e+06</td>\n",
              "      <td>1.458644e+06</td>\n",
              "      <td>1.458644e+06</td>\n",
              "      <td>1.458644e+06</td>\n",
              "    </tr>\n",
              "    <tr>\n",
              "      <th>mean</th>\n",
              "      <td>1.534950e+00</td>\n",
              "      <td>1.664530e+00</td>\n",
              "      <td>-7.397349e+01</td>\n",
              "      <td>4.075092e+01</td>\n",
              "      <td>-7.397342e+01</td>\n",
              "      <td>4.075180e+01</td>\n",
              "      <td>9.594923e+02</td>\n",
              "    </tr>\n",
              "    <tr>\n",
              "      <th>std</th>\n",
              "      <td>4.987772e-01</td>\n",
              "      <td>1.314242e+00</td>\n",
              "      <td>7.090186e-02</td>\n",
              "      <td>3.288119e-02</td>\n",
              "      <td>7.064327e-02</td>\n",
              "      <td>3.589056e-02</td>\n",
              "      <td>5.237432e+03</td>\n",
              "    </tr>\n",
              "    <tr>\n",
              "      <th>min</th>\n",
              "      <td>1.000000e+00</td>\n",
              "      <td>0.000000e+00</td>\n",
              "      <td>-1.219333e+02</td>\n",
              "      <td>3.435970e+01</td>\n",
              "      <td>-1.219333e+02</td>\n",
              "      <td>3.218114e+01</td>\n",
              "      <td>1.000000e+00</td>\n",
              "    </tr>\n",
              "    <tr>\n",
              "      <th>25%</th>\n",
              "      <td>1.000000e+00</td>\n",
              "      <td>1.000000e+00</td>\n",
              "      <td>-7.399187e+01</td>\n",
              "      <td>4.073735e+01</td>\n",
              "      <td>-7.399133e+01</td>\n",
              "      <td>4.073588e+01</td>\n",
              "      <td>3.970000e+02</td>\n",
              "    </tr>\n",
              "    <tr>\n",
              "      <th>50%</th>\n",
              "      <td>2.000000e+00</td>\n",
              "      <td>1.000000e+00</td>\n",
              "      <td>-7.398174e+01</td>\n",
              "      <td>4.075410e+01</td>\n",
              "      <td>-7.397975e+01</td>\n",
              "      <td>4.075452e+01</td>\n",
              "      <td>6.620000e+02</td>\n",
              "    </tr>\n",
              "    <tr>\n",
              "      <th>75%</th>\n",
              "      <td>2.000000e+00</td>\n",
              "      <td>2.000000e+00</td>\n",
              "      <td>-7.396733e+01</td>\n",
              "      <td>4.076836e+01</td>\n",
              "      <td>-7.396301e+01</td>\n",
              "      <td>4.076981e+01</td>\n",
              "      <td>1.075000e+03</td>\n",
              "    </tr>\n",
              "    <tr>\n",
              "      <th>max</th>\n",
              "      <td>2.000000e+00</td>\n",
              "      <td>9.000000e+00</td>\n",
              "      <td>-6.133553e+01</td>\n",
              "      <td>5.188108e+01</td>\n",
              "      <td>-6.133553e+01</td>\n",
              "      <td>4.392103e+01</td>\n",
              "      <td>3.526282e+06</td>\n",
              "    </tr>\n",
              "  </tbody>\n",
              "</table>\n",
              "</div>\n",
              "      <button class=\"colab-df-convert\" onclick=\"convertToInteractive('df-f6230f26-fc27-4a08-b2b8-873e598d0664')\"\n",
              "              title=\"Convert this dataframe to an interactive table.\"\n",
              "              style=\"display:none;\">\n",
              "        \n",
              "  <svg xmlns=\"http://www.w3.org/2000/svg\" height=\"24px\"viewBox=\"0 0 24 24\"\n",
              "       width=\"24px\">\n",
              "    <path d=\"M0 0h24v24H0V0z\" fill=\"none\"/>\n",
              "    <path d=\"M18.56 5.44l.94 2.06.94-2.06 2.06-.94-2.06-.94-.94-2.06-.94 2.06-2.06.94zm-11 1L8.5 8.5l.94-2.06 2.06-.94-2.06-.94L8.5 2.5l-.94 2.06-2.06.94zm10 10l.94 2.06.94-2.06 2.06-.94-2.06-.94-.94-2.06-.94 2.06-2.06.94z\"/><path d=\"M17.41 7.96l-1.37-1.37c-.4-.4-.92-.59-1.43-.59-.52 0-1.04.2-1.43.59L10.3 9.45l-7.72 7.72c-.78.78-.78 2.05 0 2.83L4 21.41c.39.39.9.59 1.41.59.51 0 1.02-.2 1.41-.59l7.78-7.78 2.81-2.81c.8-.78.8-2.07 0-2.86zM5.41 20L4 18.59l7.72-7.72 1.47 1.35L5.41 20z\"/>\n",
              "  </svg>\n",
              "      </button>\n",
              "      \n",
              "  <style>\n",
              "    .colab-df-container {\n",
              "      display:flex;\n",
              "      flex-wrap:wrap;\n",
              "      gap: 12px;\n",
              "    }\n",
              "\n",
              "    .colab-df-convert {\n",
              "      background-color: #E8F0FE;\n",
              "      border: none;\n",
              "      border-radius: 50%;\n",
              "      cursor: pointer;\n",
              "      display: none;\n",
              "      fill: #1967D2;\n",
              "      height: 32px;\n",
              "      padding: 0 0 0 0;\n",
              "      width: 32px;\n",
              "    }\n",
              "\n",
              "    .colab-df-convert:hover {\n",
              "      background-color: #E2EBFA;\n",
              "      box-shadow: 0px 1px 2px rgba(60, 64, 67, 0.3), 0px 1px 3px 1px rgba(60, 64, 67, 0.15);\n",
              "      fill: #174EA6;\n",
              "    }\n",
              "\n",
              "    [theme=dark] .colab-df-convert {\n",
              "      background-color: #3B4455;\n",
              "      fill: #D2E3FC;\n",
              "    }\n",
              "\n",
              "    [theme=dark] .colab-df-convert:hover {\n",
              "      background-color: #434B5C;\n",
              "      box-shadow: 0px 1px 3px 1px rgba(0, 0, 0, 0.15);\n",
              "      filter: drop-shadow(0px 1px 2px rgba(0, 0, 0, 0.3));\n",
              "      fill: #FFFFFF;\n",
              "    }\n",
              "  </style>\n",
              "\n",
              "      <script>\n",
              "        const buttonEl =\n",
              "          document.querySelector('#df-f6230f26-fc27-4a08-b2b8-873e598d0664 button.colab-df-convert');\n",
              "        buttonEl.style.display =\n",
              "          google.colab.kernel.accessAllowed ? 'block' : 'none';\n",
              "\n",
              "        async function convertToInteractive(key) {\n",
              "          const element = document.querySelector('#df-f6230f26-fc27-4a08-b2b8-873e598d0664');\n",
              "          const dataTable =\n",
              "            await google.colab.kernel.invokeFunction('convertToInteractive',\n",
              "                                                     [key], {});\n",
              "          if (!dataTable) return;\n",
              "\n",
              "          const docLinkHtml = 'Like what you see? Visit the ' +\n",
              "            '<a target=\"_blank\" href=https://colab.research.google.com/notebooks/data_table.ipynb>data table notebook</a>'\n",
              "            + ' to learn more about interactive tables.';\n",
              "          element.innerHTML = '';\n",
              "          dataTable['output_type'] = 'display_data';\n",
              "          await google.colab.output.renderOutput(dataTable, element);\n",
              "          const docLink = document.createElement('div');\n",
              "          docLink.innerHTML = docLinkHtml;\n",
              "          element.appendChild(docLink);\n",
              "        }\n",
              "      </script>\n",
              "    </div>\n",
              "  </div>\n",
              "  "
            ]
          },
          "metadata": {},
          "execution_count": 14
        }
      ]
    },
    {
      "cell_type": "markdown",
      "source": [
        "###Some insights from the above summary:\n",
        "\n",
        "Vendor id has a minimum value of 1 and a maximum value of 2 which makes sense as we saw there are two vendor ids 1 and 2.\n",
        "\n",
        "Passenger count has a minimum of 0 which means either it is an error entered or the drivers deliberately entered 0 to complete a target number of rides.\n",
        "\n",
        "The minimum trip duration is also quite low. We will come back to this later during Univariate Analysis."
      ],
      "metadata": {
        "id": "xwa3ZQ6jy433"
      }
    },
    {
      "cell_type": "markdown",
      "source": [
        "##Independent Variables\n",
        "id — a unique identifier for each trip\n",
        "\n",
        "vendor_id — a code indicating the provider associated with the trip record\n",
        "\n",
        "pickup_datetime — date and time when the meter was engaged\n",
        "\n",
        "dropoff_datetime — date and time when the meter was disengaged\n",
        "\n",
        "passenger_count — the number of passengers in the vehicle (driver entered value)\n",
        "\n",
        "pickup_longitude — the longitude where the meter was engaged\n",
        "\n",
        "pickup_latitude — the latitude where the meter was engaged\n",
        "\n",
        "dropoff_longitude — the longitude where the meter was disengaged\n",
        "\n",
        "dropoff_latitude — the latitude where the meter was disengaged\n",
        "\n",
        "store_and_fwd_flag — This flag indicates whether the trip \n",
        "record was held in vehicle memory before sending to the vendor because the vehicle did not have a connection to the server — Y=store and forward; N=not a store and forward trip."
      ],
      "metadata": {
        "id": "s7YPLWbMxiCk"
      }
    },
    {
      "cell_type": "markdown",
      "source": [
        "##Target Variable\n",
        "\n",
        "trip_duration — duration of the trip in seconds"
      ],
      "metadata": {
        "id": "Et3iSXulxoj5"
      }
    },
    {
      "cell_type": "markdown",
      "source": [
        "##Feature Creation\n",
        "Let us create some new features from the existing variables so that we can gain more insights from the data.\n",
        "\n",
        "Remember pickup_datetime and dropoff_datetime were both of type object.\n",
        "If we want to make use of this data, we can convert it to datetime object which contains numerous functions with which we can create new features that we will see soon.\n",
        "\n",
        "We can convert it to datetime using the following code."
      ],
      "metadata": {
        "id": "NcR5njh9zSHq"
      }
    },
    {
      "cell_type": "code",
      "source": [
        "df['pickup_datetime']=pd.to_datetime(df['pickup_datetime'])\n",
        "df['dropoff_datetime']=pd.to_datetime(df['dropoff_datetime'])"
      ],
      "metadata": {
        "id": "SmvvK9lBwhtP"
      },
      "execution_count": null,
      "outputs": []
    },
    {
      "cell_type": "markdown",
      "source": [
        "Now, let us extract and create new features from this datetime features we just created.\n",
        "\n"
      ],
      "metadata": {
        "id": "OcyJ606Hzmfz"
      }
    },
    {
      "cell_type": "code",
      "source": [
        "df['pickup_day']=df['pickup_datetime'].dt.day_name()\n",
        "df['dropoff_day']=df['dropoff_datetime'].dt.day_name()\n",
        "df['pickup_day_no']=df['pickup_datetime'].dt.weekday\n",
        "df['dropoff_day_no']=df['dropoff_datetime'].dt.weekday\n",
        "df['pickup_hour']=df['pickup_datetime'].dt.hour\n",
        "df['dropoff_hour']=df['dropoff_datetime'].dt.hour\n",
        "df['pickup_month']=df['pickup_datetime'].dt.month\n",
        "df['dropoff_month']=df['dropoff_datetime'].dt.month"
      ],
      "metadata": {
        "id": "2GbVm9UzzfHF"
      },
      "execution_count": null,
      "outputs": []
    },
    {
      "cell_type": "code",
      "source": [
        "df['vendor_id']"
      ],
      "metadata": {
        "id": "CIbQepCM5OYE",
        "colab": {
          "base_uri": "https://localhost:8080/"
        },
        "outputId": "071bc855-1412-4152-8311-b7c89ea14c88"
      },
      "execution_count": null,
      "outputs": [
        {
          "output_type": "execute_result",
          "data": {
            "text/plain": [
              "0          2\n",
              "1          1\n",
              "2          2\n",
              "3          2\n",
              "4          2\n",
              "          ..\n",
              "1458639    2\n",
              "1458640    1\n",
              "1458641    2\n",
              "1458642    1\n",
              "1458643    1\n",
              "Name: vendor_id, Length: 1458644, dtype: int64"
            ]
          },
          "metadata": {},
          "execution_count": 17
        }
      ]
    },
    {
      "cell_type": "markdown",
      "source": [
        "##We have created the following features:\n",
        "\n",
        "pickup_day and dropoff_day which will contain the name of the \n",
        "day on which the ride was taken.\n",
        "\n",
        "pickup_day_no and dropoff_day_no which will contain the day number instead of characters with Monday=0 and Sunday=6.\n",
        "\n",
        "pickup_hour and dropoff_hour with an hour of the day in the 24-hour format.\n",
        "\n",
        "pickup_month and dropoff_month with month number with January=1 and December=12.\n",
        "\n",
        "\n",
        "\n",
        "\n",
        "Next, I  defined a function that lets us determine what time of the day the ride was taken. I created 4 time zones ‘Morning’ (from 6:00 am to 11:59 pm), ‘Afternoon’ (from 12 noon to 3:59 pm), ‘Evening’ (from 4:00 pm to 9:59 pm), and ‘Late Night’ (from 10:00 pm to 5:59 am)"
      ],
      "metadata": {
        "id": "Lo_6I9Ta0KTj"
      }
    },
    {
      "cell_type": "code",
      "source": [
        "def time_of_day(x):\n",
        "    if x in range(6,12):\n",
        "        return 'Morning'\n",
        "    elif x in range(12,16):\n",
        "        return 'Afternoon'\n",
        "    elif x in range(16,22):\n",
        "        return 'Evening'\n",
        "    else:\n",
        "        return 'Late night'"
      ],
      "metadata": {
        "id": "UieqGln8z1Pg"
      },
      "execution_count": null,
      "outputs": []
    },
    {
      "cell_type": "code",
      "source": [
        "df['pickup_timeofday']=df['pickup_hour'].apply(time_of_day)\n",
        "df['dropoff_timeofday']=df['dropoff_hour'].apply(time_of_day)"
      ],
      "metadata": {
        "id": "Tkb9zRr20jc5"
      },
      "execution_count": null,
      "outputs": []
    },
    {
      "cell_type": "markdown",
      "source": [
        "Also saw during dataset exploration that coordinates in the form of longitude and latitude for pickup and dropoff. But, i can’t really gather any insights or draw conclusions from that.\n",
        "So, the most obvious feature that i can extract from this is distance. Let us do that.\n",
        "\n",
        "Importing the library which lets us calculate distance from geographical coordinates."
      ],
      "metadata": {
        "id": "7TfNV8vP1Rby"
      }
    },
    {
      "cell_type": "code",
      "source": [
        "from geopy.distance import great_circle"
      ],
      "metadata": {
        "id": "UvBge-AC032d"
      },
      "execution_count": null,
      "outputs": []
    },
    {
      "cell_type": "code",
      "source": [
        "def cal_distance(pickup_lat,pickup_long,dropoff_lat,dropoff_long):\n",
        " \n",
        " start_coordinates=(pickup_lat,pickup_long)\n",
        " stop_coordinates=(dropoff_lat,dropoff_long)\n",
        " \n",
        " return great_circle(start_coordinates,stop_coordinates).km"
      ],
      "metadata": {
        "id": "EGw7EE_81dTU"
      },
      "execution_count": null,
      "outputs": []
    },
    {
      "cell_type": "code",
      "source": [
        "df['distance'] = df.apply(lambda x: cal_distance(x['pickup_latitude'],x['pickup_longitude'],x['dropoff_latitude'],x['dropoff_longitude'] ), axis=1)"
      ],
      "metadata": {
        "id": "zcLOFVzz8eQT"
      },
      "execution_count": null,
      "outputs": []
    },
    {
      "cell_type": "code",
      "source": [
        "df.head()"
      ],
      "metadata": {
        "id": "1UOWoul59Iri",
        "colab": {
          "base_uri": "https://localhost:8080/",
          "height": 386
        },
        "outputId": "132172ce-0f1c-44df-af9c-1908ee18da82"
      },
      "execution_count": null,
      "outputs": [
        {
          "output_type": "execute_result",
          "data": {
            "text/plain": [
              "          id  vendor_id     pickup_datetime    dropoff_datetime  \\\n",
              "0  id2875421          2 2016-03-14 17:24:55 2016-03-14 17:32:30   \n",
              "1  id2377394          1 2016-06-12 00:43:35 2016-06-12 00:54:38   \n",
              "2  id3858529          2 2016-01-19 11:35:24 2016-01-19 12:10:48   \n",
              "3  id3504673          2 2016-04-06 19:32:31 2016-04-06 19:39:40   \n",
              "4  id2181028          2 2016-03-26 13:30:55 2016-03-26 13:38:10   \n",
              "\n",
              "   passenger_count  pickup_longitude  pickup_latitude  dropoff_longitude  \\\n",
              "0                1        -73.982155        40.767937         -73.964630   \n",
              "1                1        -73.980415        40.738564         -73.999481   \n",
              "2                1        -73.979027        40.763939         -74.005333   \n",
              "3                1        -74.010040        40.719971         -74.012268   \n",
              "4                1        -73.973053        40.793209         -73.972923   \n",
              "\n",
              "   dropoff_latitude store_and_fwd_flag  ...  dropoff_day pickup_day_no  \\\n",
              "0         40.765602                  N  ...       Monday             0   \n",
              "1         40.731152                  N  ...       Sunday             6   \n",
              "2         40.710087                  N  ...      Tuesday             1   \n",
              "3         40.706718                  N  ...    Wednesday             2   \n",
              "4         40.782520                  N  ...     Saturday             5   \n",
              "\n",
              "  dropoff_day_no  pickup_hour  dropoff_hour  pickup_month  dropoff_month  \\\n",
              "0              0           17            17             3              3   \n",
              "1              6            0             0             6              6   \n",
              "2              1           11            12             1              1   \n",
              "3              2           19            19             4              4   \n",
              "4              5           13            13             3              3   \n",
              "\n",
              "   pickup_timeofday  dropoff_timeofday  distance  \n",
              "0           Evening            Evening  1.498523  \n",
              "1        Late night         Late night  1.805510  \n",
              "2           Morning          Afternoon  6.385108  \n",
              "3           Evening            Evening  1.485501  \n",
              "4         Afternoon          Afternoon  1.188590  \n",
              "\n",
              "[5 rows x 22 columns]"
            ],
            "text/html": [
              "\n",
              "  <div id=\"df-3869feb7-8a7f-43b4-a8a7-22ccac396ed1\">\n",
              "    <div class=\"colab-df-container\">\n",
              "      <div>\n",
              "<style scoped>\n",
              "    .dataframe tbody tr th:only-of-type {\n",
              "        vertical-align: middle;\n",
              "    }\n",
              "\n",
              "    .dataframe tbody tr th {\n",
              "        vertical-align: top;\n",
              "    }\n",
              "\n",
              "    .dataframe thead th {\n",
              "        text-align: right;\n",
              "    }\n",
              "</style>\n",
              "<table border=\"1\" class=\"dataframe\">\n",
              "  <thead>\n",
              "    <tr style=\"text-align: right;\">\n",
              "      <th></th>\n",
              "      <th>id</th>\n",
              "      <th>vendor_id</th>\n",
              "      <th>pickup_datetime</th>\n",
              "      <th>dropoff_datetime</th>\n",
              "      <th>passenger_count</th>\n",
              "      <th>pickup_longitude</th>\n",
              "      <th>pickup_latitude</th>\n",
              "      <th>dropoff_longitude</th>\n",
              "      <th>dropoff_latitude</th>\n",
              "      <th>store_and_fwd_flag</th>\n",
              "      <th>...</th>\n",
              "      <th>dropoff_day</th>\n",
              "      <th>pickup_day_no</th>\n",
              "      <th>dropoff_day_no</th>\n",
              "      <th>pickup_hour</th>\n",
              "      <th>dropoff_hour</th>\n",
              "      <th>pickup_month</th>\n",
              "      <th>dropoff_month</th>\n",
              "      <th>pickup_timeofday</th>\n",
              "      <th>dropoff_timeofday</th>\n",
              "      <th>distance</th>\n",
              "    </tr>\n",
              "  </thead>\n",
              "  <tbody>\n",
              "    <tr>\n",
              "      <th>0</th>\n",
              "      <td>id2875421</td>\n",
              "      <td>2</td>\n",
              "      <td>2016-03-14 17:24:55</td>\n",
              "      <td>2016-03-14 17:32:30</td>\n",
              "      <td>1</td>\n",
              "      <td>-73.982155</td>\n",
              "      <td>40.767937</td>\n",
              "      <td>-73.964630</td>\n",
              "      <td>40.765602</td>\n",
              "      <td>N</td>\n",
              "      <td>...</td>\n",
              "      <td>Monday</td>\n",
              "      <td>0</td>\n",
              "      <td>0</td>\n",
              "      <td>17</td>\n",
              "      <td>17</td>\n",
              "      <td>3</td>\n",
              "      <td>3</td>\n",
              "      <td>Evening</td>\n",
              "      <td>Evening</td>\n",
              "      <td>1.498523</td>\n",
              "    </tr>\n",
              "    <tr>\n",
              "      <th>1</th>\n",
              "      <td>id2377394</td>\n",
              "      <td>1</td>\n",
              "      <td>2016-06-12 00:43:35</td>\n",
              "      <td>2016-06-12 00:54:38</td>\n",
              "      <td>1</td>\n",
              "      <td>-73.980415</td>\n",
              "      <td>40.738564</td>\n",
              "      <td>-73.999481</td>\n",
              "      <td>40.731152</td>\n",
              "      <td>N</td>\n",
              "      <td>...</td>\n",
              "      <td>Sunday</td>\n",
              "      <td>6</td>\n",
              "      <td>6</td>\n",
              "      <td>0</td>\n",
              "      <td>0</td>\n",
              "      <td>6</td>\n",
              "      <td>6</td>\n",
              "      <td>Late night</td>\n",
              "      <td>Late night</td>\n",
              "      <td>1.805510</td>\n",
              "    </tr>\n",
              "    <tr>\n",
              "      <th>2</th>\n",
              "      <td>id3858529</td>\n",
              "      <td>2</td>\n",
              "      <td>2016-01-19 11:35:24</td>\n",
              "      <td>2016-01-19 12:10:48</td>\n",
              "      <td>1</td>\n",
              "      <td>-73.979027</td>\n",
              "      <td>40.763939</td>\n",
              "      <td>-74.005333</td>\n",
              "      <td>40.710087</td>\n",
              "      <td>N</td>\n",
              "      <td>...</td>\n",
              "      <td>Tuesday</td>\n",
              "      <td>1</td>\n",
              "      <td>1</td>\n",
              "      <td>11</td>\n",
              "      <td>12</td>\n",
              "      <td>1</td>\n",
              "      <td>1</td>\n",
              "      <td>Morning</td>\n",
              "      <td>Afternoon</td>\n",
              "      <td>6.385108</td>\n",
              "    </tr>\n",
              "    <tr>\n",
              "      <th>3</th>\n",
              "      <td>id3504673</td>\n",
              "      <td>2</td>\n",
              "      <td>2016-04-06 19:32:31</td>\n",
              "      <td>2016-04-06 19:39:40</td>\n",
              "      <td>1</td>\n",
              "      <td>-74.010040</td>\n",
              "      <td>40.719971</td>\n",
              "      <td>-74.012268</td>\n",
              "      <td>40.706718</td>\n",
              "      <td>N</td>\n",
              "      <td>...</td>\n",
              "      <td>Wednesday</td>\n",
              "      <td>2</td>\n",
              "      <td>2</td>\n",
              "      <td>19</td>\n",
              "      <td>19</td>\n",
              "      <td>4</td>\n",
              "      <td>4</td>\n",
              "      <td>Evening</td>\n",
              "      <td>Evening</td>\n",
              "      <td>1.485501</td>\n",
              "    </tr>\n",
              "    <tr>\n",
              "      <th>4</th>\n",
              "      <td>id2181028</td>\n",
              "      <td>2</td>\n",
              "      <td>2016-03-26 13:30:55</td>\n",
              "      <td>2016-03-26 13:38:10</td>\n",
              "      <td>1</td>\n",
              "      <td>-73.973053</td>\n",
              "      <td>40.793209</td>\n",
              "      <td>-73.972923</td>\n",
              "      <td>40.782520</td>\n",
              "      <td>N</td>\n",
              "      <td>...</td>\n",
              "      <td>Saturday</td>\n",
              "      <td>5</td>\n",
              "      <td>5</td>\n",
              "      <td>13</td>\n",
              "      <td>13</td>\n",
              "      <td>3</td>\n",
              "      <td>3</td>\n",
              "      <td>Afternoon</td>\n",
              "      <td>Afternoon</td>\n",
              "      <td>1.188590</td>\n",
              "    </tr>\n",
              "  </tbody>\n",
              "</table>\n",
              "<p>5 rows × 22 columns</p>\n",
              "</div>\n",
              "      <button class=\"colab-df-convert\" onclick=\"convertToInteractive('df-3869feb7-8a7f-43b4-a8a7-22ccac396ed1')\"\n",
              "              title=\"Convert this dataframe to an interactive table.\"\n",
              "              style=\"display:none;\">\n",
              "        \n",
              "  <svg xmlns=\"http://www.w3.org/2000/svg\" height=\"24px\"viewBox=\"0 0 24 24\"\n",
              "       width=\"24px\">\n",
              "    <path d=\"M0 0h24v24H0V0z\" fill=\"none\"/>\n",
              "    <path d=\"M18.56 5.44l.94 2.06.94-2.06 2.06-.94-2.06-.94-.94-2.06-.94 2.06-2.06.94zm-11 1L8.5 8.5l.94-2.06 2.06-.94-2.06-.94L8.5 2.5l-.94 2.06-2.06.94zm10 10l.94 2.06.94-2.06 2.06-.94-2.06-.94-.94-2.06-.94 2.06-2.06.94z\"/><path d=\"M17.41 7.96l-1.37-1.37c-.4-.4-.92-.59-1.43-.59-.52 0-1.04.2-1.43.59L10.3 9.45l-7.72 7.72c-.78.78-.78 2.05 0 2.83L4 21.41c.39.39.9.59 1.41.59.51 0 1.02-.2 1.41-.59l7.78-7.78 2.81-2.81c.8-.78.8-2.07 0-2.86zM5.41 20L4 18.59l7.72-7.72 1.47 1.35L5.41 20z\"/>\n",
              "  </svg>\n",
              "      </button>\n",
              "      \n",
              "  <style>\n",
              "    .colab-df-container {\n",
              "      display:flex;\n",
              "      flex-wrap:wrap;\n",
              "      gap: 12px;\n",
              "    }\n",
              "\n",
              "    .colab-df-convert {\n",
              "      background-color: #E8F0FE;\n",
              "      border: none;\n",
              "      border-radius: 50%;\n",
              "      cursor: pointer;\n",
              "      display: none;\n",
              "      fill: #1967D2;\n",
              "      height: 32px;\n",
              "      padding: 0 0 0 0;\n",
              "      width: 32px;\n",
              "    }\n",
              "\n",
              "    .colab-df-convert:hover {\n",
              "      background-color: #E2EBFA;\n",
              "      box-shadow: 0px 1px 2px rgba(60, 64, 67, 0.3), 0px 1px 3px 1px rgba(60, 64, 67, 0.15);\n",
              "      fill: #174EA6;\n",
              "    }\n",
              "\n",
              "    [theme=dark] .colab-df-convert {\n",
              "      background-color: #3B4455;\n",
              "      fill: #D2E3FC;\n",
              "    }\n",
              "\n",
              "    [theme=dark] .colab-df-convert:hover {\n",
              "      background-color: #434B5C;\n",
              "      box-shadow: 0px 1px 3px 1px rgba(0, 0, 0, 0.15);\n",
              "      filter: drop-shadow(0px 1px 2px rgba(0, 0, 0, 0.3));\n",
              "      fill: #FFFFFF;\n",
              "    }\n",
              "  </style>\n",
              "\n",
              "      <script>\n",
              "        const buttonEl =\n",
              "          document.querySelector('#df-3869feb7-8a7f-43b4-a8a7-22ccac396ed1 button.colab-df-convert');\n",
              "        buttonEl.style.display =\n",
              "          google.colab.kernel.accessAllowed ? 'block' : 'none';\n",
              "\n",
              "        async function convertToInteractive(key) {\n",
              "          const element = document.querySelector('#df-3869feb7-8a7f-43b4-a8a7-22ccac396ed1');\n",
              "          const dataTable =\n",
              "            await google.colab.kernel.invokeFunction('convertToInteractive',\n",
              "                                                     [key], {});\n",
              "          if (!dataTable) return;\n",
              "\n",
              "          const docLinkHtml = 'Like what you see? Visit the ' +\n",
              "            '<a target=\"_blank\" href=https://colab.research.google.com/notebooks/data_table.ipynb>data table notebook</a>'\n",
              "            + ' to learn more about interactive tables.';\n",
              "          element.innerHTML = '';\n",
              "          dataTable['output_type'] = 'display_data';\n",
              "          await google.colab.output.renderOutput(dataTable, element);\n",
              "          const docLink = document.createElement('div');\n",
              "          docLink.innerHTML = docLinkHtml;\n",
              "          element.appendChild(docLink);\n",
              "        }\n",
              "      </script>\n",
              "    </div>\n",
              "  </div>\n",
              "  "
            ]
          },
          "metadata": {},
          "execution_count": 23
        }
      ]
    },
    {
      "cell_type": "markdown",
      "source": [
        "##Univariate Analysis\n",
        "The univariate analysis involves studying patterns of all variables individually.\n",
        "\n",
        "###Target Variable\n",
        "Let us start by analyzing the target variable.\n",
        "\n"
      ],
      "metadata": {
        "id": "I5QVtWfM3rFS"
      }
    },
    {
      "cell_type": "code",
      "source": [
        "sns.histplot(df['trip_duration'],kde=False,bins=20)"
      ],
      "metadata": {
        "id": "3fKkuppY3F5_",
        "colab": {
          "base_uri": "https://localhost:8080/",
          "height": 313
        },
        "outputId": "1b59453b-f2bf-4bd4-b3de-7414ea44cd18"
      },
      "execution_count": null,
      "outputs": [
        {
          "output_type": "execute_result",
          "data": {
            "text/plain": [
              "<matplotlib.axes._subplots.AxesSubplot at 0x7f35648f90d0>"
            ]
          },
          "metadata": {},
          "execution_count": 24
        },
        {
          "output_type": "display_data",
          "data": {
            "text/plain": [
              "<Figure size 432x288 with 1 Axes>"
            ],
            "image/png": "[encoded data removed]"
          },
          "metadata": {
            "needs_background": "light"
          }
        }
      ]
    },
    {
      "cell_type": "markdown",
      "source": [
        "The histogram is really skewed as we can see.\n",
        "\n",
        "also look at the boxplot."
      ],
      "metadata": {
        "id": "kBr9re0r4FAE"
      }
    },
    {
      "cell_type": "code",
      "source": [
        "sns.boxplot(df['trip_duration'])"
      ],
      "metadata": {
        "id": "9V5yKXo1363S",
        "colab": {
          "base_uri": "https://localhost:8080/",
          "height": 302
        },
        "outputId": "fa426dca-764a-44a8-f325-1c2348a6545c"
      },
      "execution_count": null,
      "outputs": [
        {
          "output_type": "execute_result",
          "data": {
            "text/plain": [
              "<matplotlib.axes._subplots.AxesSubplot at 0x7f353a2724d0>"
            ]
          },
          "metadata": {},
          "execution_count": 25
        },
        {
          "output_type": "display_data",
          "data": {
            "text/plain": [
              "<Figure size 432x288 with 1 Axes>"
            ],
            "image/png": "[encoded data removed]"
          },
          "metadata": {
            "needs_background": "light"
          }
        }
      ]
    },
    {
      "cell_type": "markdown",
      "source": [
        "clearly see an outlier."
      ],
      "metadata": {
        "id": "rQiXanvf4TAc"
      }
    },
    {
      "cell_type": "code",
      "source": [
        "df['trip_duration'].sort_values(ascending=False)"
      ],
      "metadata": {
        "id": "I_Jg3KCZ4Kkb",
        "colab": {
          "base_uri": "https://localhost:8080/"
        },
        "outputId": "a22bb86e-9662-4292-a0f5-86241be894aa"
      },
      "execution_count": null,
      "outputs": [
        {
          "output_type": "execute_result",
          "data": {
            "text/plain": [
              "978383     3526282\n",
              "924150     2227612\n",
              "680594     2049578\n",
              "355003     1939736\n",
              "1234291      86392\n",
              "            ...   \n",
              "269418           1\n",
              "467645           1\n",
              "533799           1\n",
              "726971           1\n",
              "311745           1\n",
              "Name: trip_duration, Length: 1458644, dtype: int64"
            ]
          },
          "metadata": {},
          "execution_count": 26
        }
      ]
    },
    {
      "cell_type": "markdown",
      "source": [
        "see that there is an entry which is significantly different from others.\n",
        "\n",
        "As there is a single row only, let us drop this row"
      ],
      "metadata": {
        "id": "wUnxGoXI4ljh"
      }
    },
    {
      "cell_type": "code",
      "source": [
        "df.drop(df[df['trip_duration'] == 3526282].index, inplace = True)"
      ],
      "metadata": {
        "id": "vqgBK-uk4XUL"
      },
      "execution_count": null,
      "outputs": []
    },
    {
      "cell_type": "markdown",
      "source": [
        "##Vendor id"
      ],
      "metadata": {
        "id": "Zv_ur9vA41BC"
      }
    },
    {
      "cell_type": "code",
      "source": [
        "sns.countplot(x='vendor_id',data=df)"
      ],
      "metadata": {
        "id": "tbLwx5STAMki",
        "colab": {
          "base_uri": "https://localhost:8080/",
          "height": 302
        },
        "outputId": "f38ff72c-72e9-41ff-a9df-e286538c4d89"
      },
      "execution_count": null,
      "outputs": [
        {
          "output_type": "execute_result",
          "data": {
            "text/plain": [
              "<matplotlib.axes._subplots.AxesSubplot at 0x7f353f7ea190>"
            ]
          },
          "metadata": {},
          "execution_count": 28
        },
        {
          "output_type": "display_data",
          "data": {
            "text/plain": [
              "<Figure size 432x288 with 1 Axes>"
            ],
            "image/png": "[encoded data removed]"
          },
          "metadata": {
            "needs_background": "light"
          }
        }
      ]
    },
    {
      "cell_type": "markdown",
      "source": [
        "see that there is not much difference between the trips taken by both vendors."
      ],
      "metadata": {
        "id": "7RaHrDrQAyGG"
      }
    },
    {
      "cell_type": "markdown",
      "source": [
        "##Passenger Count"
      ],
      "metadata": {
        "id": "x08k1Yad5_Xu"
      }
    },
    {
      "cell_type": "code",
      "source": [
        "df.passenger_count.value_counts()"
      ],
      "metadata": {
        "id": "UpCaahfl45Bv",
        "colab": {
          "base_uri": "https://localhost:8080/"
        },
        "outputId": "d25b2c7e-bf94-40c0-f6f3-1f7897163898"
      },
      "execution_count": null,
      "outputs": [
        {
          "output_type": "execute_result",
          "data": {
            "text/plain": [
              "1    1033539\n",
              "2     210318\n",
              "5      78088\n",
              "3      59896\n",
              "6      48333\n",
              "4      28404\n",
              "0         60\n",
              "7          3\n",
              "9          1\n",
              "8          1\n",
              "Name: passenger_count, dtype: int64"
            ]
          },
          "metadata": {},
          "execution_count": 29
        }
      ]
    },
    {
      "cell_type": "markdown",
      "source": [
        "There are some trips with even 0 passenger count.\n",
        "There is only 1 trip each for 8 and 9 passengers."
      ],
      "metadata": {
        "id": "O7Z0OEDzA-Ou"
      }
    },
    {
      "cell_type": "code",
      "source": [
        "sns.countplot(x='passenger_count',data=df)"
      ],
      "metadata": {
        "id": "nA4ozGES6HMQ",
        "colab": {
          "base_uri": "https://localhost:8080/",
          "height": 313
        },
        "outputId": "12cacf75-5d58-45ed-88c1-5ad86bfb01fd"
      },
      "execution_count": null,
      "outputs": [
        {
          "output_type": "execute_result",
          "data": {
            "text/plain": [
              "<matplotlib.axes._subplots.AxesSubplot at 0x7f353f6487d0>"
            ]
          },
          "metadata": {},
          "execution_count": 30
        },
        {
          "output_type": "display_data",
          "data": {
            "text/plain": [
              "<Figure size 432x288 with 1 Axes>"
            ],
            "image/png": "[encoded data removed]"
          },
          "metadata": {
            "needs_background": "light"
          }
        }
      ]
    },
    {
      "cell_type": "markdown",
      "source": [
        "see the highest amount of trips are with 1 passenger.\n",
        "\n",
        "Let us remove the rows which have 0 or 7 or 9 passenger count."
      ],
      "metadata": {
        "id": "Cpg7CcUNBMfA"
      }
    },
    {
      "cell_type": "code",
      "source": [
        "data=df[df['passenger_count']!=0]\n",
        "data=df[df['passenger_count']<=6]"
      ],
      "metadata": {
        "id": "jVKYV0oLBZ-i"
      },
      "execution_count": null,
      "outputs": []
    },
    {
      "cell_type": "code",
      "source": [
        "data.passenger_count.value_counts()"
      ],
      "metadata": {
        "id": "5r_J9uQQBkfL",
        "colab": {
          "base_uri": "https://localhost:8080/"
        },
        "outputId": "e67a89ed-745a-45a7-ce7c-bb3da5521890"
      },
      "execution_count": null,
      "outputs": [
        {
          "output_type": "execute_result",
          "data": {
            "text/plain": [
              "1    1033539\n",
              "2     210318\n",
              "5      78088\n",
              "3      59896\n",
              "6      48333\n",
              "4      28404\n",
              "0         60\n",
              "Name: passenger_count, dtype: int64"
            ]
          },
          "metadata": {},
          "execution_count": 32
        }
      ]
    },
    {
      "cell_type": "markdown",
      "source": [
        "Now, that seems like a fair distribution."
      ],
      "metadata": {
        "id": "sHvnvKD4BODm"
      }
    },
    {
      "cell_type": "markdown",
      "source": [
        "##Store and Forward Flag\n",
        "\n",
        "\n",
        "\n"
      ],
      "metadata": {
        "id": "9kgQZdtzB0L5"
      }
    },
    {
      "cell_type": "code",
      "source": [
        "df['store_and_fwd_flag'].value_counts(normalize=True)"
      ],
      "metadata": {
        "id": "y2CTkm3KBzi4",
        "colab": {
          "base_uri": "https://localhost:8080/"
        },
        "outputId": "eba2367e-2a7b-40a5-d0c9-690e70b68ae5"
      },
      "execution_count": null,
      "outputs": [
        {
          "output_type": "execute_result",
          "data": {
            "text/plain": [
              "N    0.994485\n",
              "Y    0.005515\n",
              "Name: store_and_fwd_flag, dtype: float64"
            ]
          },
          "metadata": {},
          "execution_count": 33
        }
      ]
    },
    {
      "cell_type": "markdown",
      "source": [
        "there are less than 1% of trips that were stored before forwarding."
      ],
      "metadata": {
        "id": "17TaNF3VCJ3O"
      }
    },
    {
      "cell_type": "markdown",
      "source": [
        "##Distance\n"
      ],
      "metadata": {
        "id": "-GCAyj_7CQnO"
      }
    },
    {
      "cell_type": "code",
      "source": [
        "df['distance'].value_counts()"
      ],
      "metadata": {
        "id": "MUzjHLJn6akj",
        "colab": {
          "base_uri": "https://localhost:8080/"
        },
        "outputId": "054eb683-0012-49ea-d581-bf909b166e4c"
      },
      "execution_count": null,
      "outputs": [
        {
          "output_type": "execute_result",
          "data": {
            "text/plain": [
              "0.000000    5897\n",
              "0.000424      45\n",
              "0.000424      43\n",
              "0.000424      35\n",
              "0.000424      22\n",
              "            ... \n",
              "2.917715       1\n",
              "4.698058       1\n",
              "4.920641       1\n",
              "2.988820       1\n",
              "1.134044       1\n",
              "Name: distance, Length: 1452359, dtype: int64"
            ]
          },
          "metadata": {},
          "execution_count": 34
        }
      ]
    },
    {
      "cell_type": "markdown",
      "source": [
        "there are 5897 trips with 0 km distance.\n",
        "\n",
        "The reasons for 0 km distance can be:\n",
        "\n",
        "The dropoff location couldn’t be tracked.\n",
        "\n",
        "The driver deliberately took this ride to complete a target ride number.\n",
        "\n",
        "The passengers canceled the trip.\n",
        "\n",
        "analyze these trips further in bivariate analysis."
      ],
      "metadata": {
        "id": "7ecXTZCUCa2R"
      }
    },
    {
      "cell_type": "markdown",
      "source": [
        "##Trips per Day"
      ],
      "metadata": {
        "id": "5dzZHEfWCsiO"
      }
    },
    {
      "cell_type": "code",
      "source": [
        "figure,(ax1,ax2)=plt.subplots(ncols=2,figsize=(20,5))\n",
        "ax1.set_title('Pickup Days')\n",
        "ax=sns.countplot(x=\"pickup_day\",data=df,ax=ax1)\n",
        "ax2.set_title('Dropoff Days')\n",
        "ax=sns.countplot(x=\"dropoff_day\",data=df,ax=ax2)"
      ],
      "metadata": {
        "id": "rDM8Sp7I7L94",
        "colab": {
          "base_uri": "https://localhost:8080/",
          "height": 355
        },
        "outputId": "fbd7852d-07f8-4206-f0aa-ae877aa8895c"
      },
      "execution_count": null,
      "outputs": [
        {
          "output_type": "display_data",
          "data": {
            "text/plain": [
              "<Figure size 1440x360 with 2 Axes>"
            ],
            "image/png": "[encoded data removed]"
          },
          "metadata": {
            "needs_background": "light"
          }
        }
      ]
    },
    {
      "cell_type": "markdown",
      "source": [
        "Fridays are the busiest days followed by Saturdays. That is probably because it’s weekend."
      ],
      "metadata": {
        "id": "Yt7AGcugDA-e"
      }
    },
    {
      "cell_type": "markdown",
      "source": [
        "##Trips per Hour"
      ],
      "metadata": {
        "id": "-3kak7FHDIeY"
      }
    },
    {
      "cell_type": "code",
      "source": [
        "figure,(ax9,ax10)=plt.subplots(ncols=2,figsize=(20,5))\n",
        "ax9.set_title('Pickup Days')\n",
        "ax=sns.countplot(x=\"pickup_hour\",data=df,ax=ax9)\n",
        "ax10.set_title('Dropoff Days')\n",
        "ax=sns.countplot(x=\"dropoff_hour\",data=df,ax=ax10)"
      ],
      "metadata": {
        "id": "A5a1ZscfDCGp",
        "colab": {
          "base_uri": "https://localhost:8080/",
          "height": 355
        },
        "outputId": "5c4d3511-533f-45c9-adc4-52cee8dcca2e"
      },
      "execution_count": null,
      "outputs": [
        {
          "output_type": "display_data",
          "data": {
            "text/plain": [
              "<Figure size 1440x360 with 2 Axes>"
            ],
            "image/png": "[encoded data removed]"
          },
          "metadata": {
            "needs_background": "light"
          }
        }
      ]
    },
    {
      "cell_type": "markdown",
      "source": [
        "the busiest hours are 6:00 pm to 7:00 pm and that makes sense as this is the time when people return from their offices."
      ],
      "metadata": {
        "id": "R7KCTD8NDWcY"
      }
    },
    {
      "cell_type": "markdown",
      "source": [
        "##Trips per Time of Day"
      ],
      "metadata": {
        "id": "zm7RkseQDbNR"
      }
    },
    {
      "cell_type": "code",
      "source": [
        "figure,(ax3,ax4)=plt.subplots(ncols=2,figsize=(20,5))\n",
        "ax3.set_title('Pickup Time of Day')\n",
        "ax=sns.countplot(x=\"pickup_timeofday\",data=df,ax=ax3)\n",
        "ax4.set_title('Dropoff Time of Day')\n",
        "ax=sns.countplot(x=\"dropoff_timeofday\",data=df,ax=ax4)"
      ],
      "metadata": {
        "id": "vsrU1CsADPcL",
        "colab": {
          "base_uri": "https://localhost:8080/",
          "height": 355
        },
        "outputId": "497baba2-a806-47fc-87d3-ab1a548a81d2"
      },
      "execution_count": null,
      "outputs": [
        {
          "output_type": "display_data",
          "data": {
            "text/plain": [
              "<Figure size 1440x360 with 2 Axes>"
            ],
            "image/png": "[encoded data removed]"
          },
          "metadata": {
            "needs_background": "light"
          }
        }
      ]
    },
    {
      "cell_type": "markdown",
      "source": [
        "As we saw above, evenings are the busiest."
      ],
      "metadata": {
        "id": "039kUut5D4Lp"
      }
    },
    {
      "cell_type": "markdown",
      "source": [
        "##Trips per month"
      ],
      "metadata": {
        "id": "QqzOLIm5D7ky"
      }
    },
    {
      "cell_type": "code",
      "source": [
        "figure,(ax11,ax12)=plt.subplots(ncols=2,figsize=(20,5))\n",
        "ax11.set_title('Pickup Month')\n",
        "ax=sns.countplot(x=\"pickup_month\",data=df,ax=ax11)\n",
        "ax12.set_title('Dropoff Month')\n",
        "ax=sns.countplot(x=\"dropoff_month\",data=df,ax=ax12)"
      ],
      "metadata": {
        "id": "SFce4f7HEHdi",
        "colab": {
          "base_uri": "https://localhost:8080/",
          "height": 355
        },
        "outputId": "35eea7f1-1530-43d5-cd2e-7eddeff085da"
      },
      "execution_count": null,
      "outputs": [
        {
          "output_type": "display_data",
          "data": {
            "text/plain": [
              "<Figure size 1440x360 with 2 Axes>"
            ],
            "image/png": "[encoded data removed]"
          },
          "metadata": {
            "needs_background": "light"
          }
        }
      ]
    },
    {
      "cell_type": "markdown",
      "source": [
        "There is not much difference in the number of trips across months.\n",
        "\n",
        " \n",
        "\n",
        "Now, we will analyze all these variables further in bivariate analysis."
      ],
      "metadata": {
        "id": "eT7b_8dpEB3i"
      }
    },
    {
      "cell_type": "markdown",
      "source": [
        "##Bivariate Analysis\n",
        "Bivariate Analysis involves finding relationships, patterns, and correlations between two variables."
      ],
      "metadata": {
        "id": "9eHd6aqVD7MH"
      }
    },
    {
      "cell_type": "markdown",
      "source": [
        "##Trip Duration per Vendor"
      ],
      "metadata": {
        "id": "eS8aYErfFsot"
      }
    },
    {
      "cell_type": "code",
      "source": [
        "sns.barplot(y='trip_duration',x='vendor_id',data=df,estimator=np.mean)"
      ],
      "metadata": {
        "id": "4HhddCYpDkij",
        "colab": {
          "base_uri": "https://localhost:8080/",
          "height": 302
        },
        "outputId": "2d547656-88cc-4459-a7ad-f73421688d80"
      },
      "execution_count": null,
      "outputs": [
        {
          "output_type": "execute_result",
          "data": {
            "text/plain": [
              "<matplotlib.axes._subplots.AxesSubplot at 0x7f353e44b910>"
            ]
          },
          "metadata": {},
          "execution_count": 39
        },
        {
          "output_type": "display_data",
          "data": {
            "text/plain": [
              "<Figure size 432x288 with 1 Axes>"
            ],
            "image/png": "[encoded data removed]"
          },
          "metadata": {
            "needs_background": "light"
          }
        }
      ]
    },
    {
      "cell_type": "markdown",
      "source": [
        "Vendor id 2 takes longer trips as compared to vendor 1"
      ],
      "metadata": {
        "id": "e5ctQqJRF5At"
      }
    },
    {
      "cell_type": "markdown",
      "source": [
        "##Trip Duration per Store and Forward Flag"
      ],
      "metadata": {
        "id": "BTVZ3CvyF_mz"
      }
    },
    {
      "cell_type": "code",
      "source": [
        "sns.catplot(y='trip_duration',x='store_and_fwd_flag',data=df,kind=\"strip\")"
      ],
      "metadata": {
        "id": "DbEOKrPeF0BH",
        "colab": {
          "base_uri": "https://localhost:8080/",
          "height": 386
        },
        "outputId": "b1e62e11-8cb3-4632-9ad1-6bfea8dd90f3"
      },
      "execution_count": null,
      "outputs": [
        {
          "output_type": "execute_result",
          "data": {
            "text/plain": [
              "<seaborn.axisgrid.FacetGrid at 0x7f356fec2dd0>"
            ]
          },
          "metadata": {},
          "execution_count": 40
        },
        {
          "output_type": "display_data",
          "data": {
            "text/plain": [
              "<Figure size 360x360 with 1 Axes>"
            ],
            "image/png": "[encoded data removed]"
          },
          "metadata": {
            "needs_background": "light"
          }
        }
      ]
    },
    {
      "cell_type": "markdown",
      "source": [
        "Trip duration is generally longer for trips whose flag was not stored."
      ],
      "metadata": {
        "id": "PjJlRtOfGT8E"
      }
    },
    {
      "cell_type": "markdown",
      "source": [
        "##Trip Duration per passenger count"
      ],
      "metadata": {
        "id": "K62M6ykJHWLY"
      }
    },
    {
      "cell_type": "code",
      "source": [
        "sns.catplot(y='trip_duration',x='passenger_count',data=df,kind='strip')"
      ],
      "metadata": {
        "id": "rJCxruxmGFUm",
        "colab": {
          "base_uri": "https://localhost:8080/",
          "height": 386
        },
        "outputId": "6f3630cb-1831-4d0a-d17f-dd0ed9f564c3"
      },
      "execution_count": null,
      "outputs": [
        {
          "output_type": "execute_result",
          "data": {
            "text/plain": [
              "<seaborn.axisgrid.FacetGrid at 0x7f35838cb310>"
            ]
          },
          "metadata": {},
          "execution_count": 41
        },
        {
          "output_type": "display_data",
          "data": {
            "text/plain": [
              "<Figure size 360x360 with 1 Axes>"
            ],
            "image/png": "[encoded data removed]"
          },
          "metadata": {
            "needs_background": "light"
          }
        }
      ]
    },
    {
      "cell_type": "markdown",
      "source": [
        "There is no visible relation between trip duration and passenger count."
      ],
      "metadata": {
        "id": "KXRxYamOIl37"
      }
    },
    {
      "cell_type": "markdown",
      "source": [
        "\n",
        "##Trip Duration per hour"
      ],
      "metadata": {
        "id": "Xt2mshfkIYii"
      }
    },
    {
      "cell_type": "code",
      "source": [
        "sns.lineplot(x='pickup_hour',y='trip_duration',data=df)"
      ],
      "metadata": {
        "id": "pWELQf-aIbjh",
        "colab": {
          "base_uri": "https://localhost:8080/",
          "height": 302
        },
        "outputId": "432e58ab-fdc2-4de8-f863-bef5695db1a5"
      },
      "execution_count": null,
      "outputs": [
        {
          "output_type": "execute_result",
          "data": {
            "text/plain": [
              "<matplotlib.axes._subplots.AxesSubplot at 0x7f353ed51290>"
            ]
          },
          "metadata": {},
          "execution_count": 42
        },
        {
          "output_type": "display_data",
          "data": {
            "text/plain": [
              "<Figure size 432x288 with 1 Axes>"
            ],
            "image/png": "[encoded data removed]"
          },
          "metadata": {
            "needs_background": "light"
          }
        }
      ]
    },
    {
      "cell_type": "markdown",
      "source": [
        "We see the trip duration is the maximum around 3 pm which may be because of traffic on the roads.\n",
        "Trip duration is the lowest around 6 am as streets may not be busy."
      ],
      "metadata": {
        "id": "9K_CLo_VJHmr"
      }
    },
    {
      "cell_type": "markdown",
      "source": [
        "##Trip Duration per time of day"
      ],
      "metadata": {
        "id": "xQRZYClsJQSW"
      }
    },
    {
      "cell_type": "code",
      "source": [
        "sns.lineplot(x='pickup_timeofday',y='trip_duration',data=df)"
      ],
      "metadata": {
        "id": "NI5hTnKAHa3h",
        "colab": {
          "base_uri": "https://localhost:8080/",
          "height": 305
        },
        "outputId": "bb2c07de-b321-4192-c660-f0f202b1848a"
      },
      "execution_count": null,
      "outputs": [
        {
          "output_type": "execute_result",
          "data": {
            "text/plain": [
              "<matplotlib.axes._subplots.AxesSubplot at 0x7f355b7bd990>"
            ]
          },
          "metadata": {},
          "execution_count": 43
        },
        {
          "output_type": "display_data",
          "data": {
            "text/plain": [
              "<Figure size 432x288 with 1 Axes>"
            ],
            "image/png": "[encoded data removed]"
          },
          "metadata": {
            "needs_background": "light"
          }
        }
      ]
    },
    {
      "cell_type": "markdown",
      "source": [
        "Trip duration is the maximum in the afternoon and lowest between late night and morning."
      ],
      "metadata": {
        "id": "9fyMpIMiJe-i"
      }
    },
    {
      "cell_type": "markdown",
      "source": [
        "##Trip Duration per Day of Week"
      ],
      "metadata": {
        "id": "3zy9c0hJJsCp"
      }
    },
    {
      "cell_type": "code",
      "source": [
        "sns.lineplot(x='pickup_day_no',y='trip_duration',data=df)"
      ],
      "metadata": {
        "id": "3tYU7_ebJlNk",
        "colab": {
          "base_uri": "https://localhost:8080/",
          "height": 302
        },
        "outputId": "e859ccb5-9d1e-47b7-a557-1f6e84a0f7ea"
      },
      "execution_count": null,
      "outputs": [
        {
          "output_type": "execute_result",
          "data": {
            "text/plain": [
              "<matplotlib.axes._subplots.AxesSubplot at 0x7f353d5249d0>"
            ]
          },
          "metadata": {},
          "execution_count": 44
        },
        {
          "output_type": "display_data",
          "data": {
            "text/plain": [
              "<Figure size 432x288 with 1 Axes>"
            ],
            "image/png": "[encoded data removed]"
          },
          "metadata": {
            "needs_background": "light"
          }
        }
      ]
    },
    {
      "cell_type": "markdown",
      "source": [
        "Trip duration is the longest on Mondays closely followed by Fridays."
      ],
      "metadata": {
        "id": "p6zFwCSfKA5K"
      }
    },
    {
      "cell_type": "markdown",
      "source": [
        "##Trip Duration per month"
      ],
      "metadata": {
        "id": "i9yFh93OKW3R"
      }
    },
    {
      "cell_type": "code",
      "source": [
        "sns.lineplot(x='pickup_month',y='trip_duration',data=df)"
      ],
      "metadata": {
        "id": "vdp1pi5LJ5p6",
        "colab": {
          "base_uri": "https://localhost:8080/",
          "height": 302
        },
        "outputId": "3615100c-48e8-45ef-af36-4d3ddd4ab22e"
      },
      "execution_count": null,
      "outputs": [
        {
          "output_type": "execute_result",
          "data": {
            "text/plain": [
              "<matplotlib.axes._subplots.AxesSubplot at 0x7f353d414290>"
            ]
          },
          "metadata": {},
          "execution_count": 45
        },
        {
          "output_type": "display_data",
          "data": {
            "text/plain": [
              "<Figure size 432x288 with 1 Axes>"
            ],
            "image/png": "[encoded data removed]"
          },
          "metadata": {
            "needs_background": "light"
          }
        }
      ]
    },
    {
      "cell_type": "markdown",
      "source": [
        "From February, we can see trip duration rising every month."
      ],
      "metadata": {
        "id": "YXIW_k4_Kj7z"
      }
    },
    {
      "cell_type": "markdown",
      "source": [
        "##Distance and Vendor"
      ],
      "metadata": {
        "id": "IAAbeIivKrbL"
      }
    },
    {
      "cell_type": "code",
      "source": [
        "sns.barplot(y='distance',x='vendor_id',data=data,estimator=np.mean)"
      ],
      "metadata": {
        "id": "lY4Ld5IJKfsc",
        "colab": {
          "base_uri": "https://localhost:8080/",
          "height": 302
        },
        "outputId": "f28e43cf-91b8-42cc-e88c-ab5f7b569efb"
      },
      "execution_count": null,
      "outputs": [
        {
          "output_type": "execute_result",
          "data": {
            "text/plain": [
              "<matplotlib.axes._subplots.AxesSubplot at 0x7f353c89eed0>"
            ]
          },
          "metadata": {},
          "execution_count": 46
        },
        {
          "output_type": "display_data",
          "data": {
            "text/plain": [
              "<Figure size 432x288 with 1 Axes>"
            ],
            "image/png": "[encoded data removed]"
          },
          "metadata": {
            "needs_background": "light"
          }
        }
      ]
    },
    {
      "cell_type": "markdown",
      "source": [
        "The distribution for both vendors is very similar"
      ],
      "metadata": {
        "id": "GJdP-SldK2cT"
      }
    },
    {
      "cell_type": "markdown",
      "source": [
        "##Distance and Store and Forward Flag"
      ],
      "metadata": {
        "id": "NHUSVAWcK6ge"
      }
    },
    {
      "cell_type": "code",
      "source": [
        "sns.catplot(y='distance',x='store_and_fwd_flag',data=df,kind='strip')"
      ],
      "metadata": {
        "id": "7pci7YM_Kvvh",
        "colab": {
          "base_uri": "https://localhost:8080/",
          "height": 386
        },
        "outputId": "142d2c06-b794-4914-877d-7102ff2b3a77"
      },
      "execution_count": null,
      "outputs": [
        {
          "output_type": "execute_result",
          "data": {
            "text/plain": [
              "<seaborn.axisgrid.FacetGrid at 0x7f353d524cd0>"
            ]
          },
          "metadata": {},
          "execution_count": 47
        },
        {
          "output_type": "display_data",
          "data": {
            "text/plain": [
              "<Figure size 360x360 with 1 Axes>"
            ],
            "image/png": "[encoded data removed]"
          },
          "metadata": {
            "needs_background": "light"
          }
        }
      ]
    },
    {
      "cell_type": "markdown",
      "source": [
        "for longer distances the trip is not stored"
      ],
      "metadata": {
        "id": "t75P6TdhLSRT"
      }
    },
    {
      "cell_type": "markdown",
      "source": [
        "##Distance per passenger count"
      ],
      "metadata": {
        "id": "CU49qsMXLnBr"
      }
    },
    {
      "cell_type": "code",
      "source": [
        "sns.catplot(y='distance',x='passenger_count',data=df,kind='strip')"
      ],
      "metadata": {
        "id": "AfAd4T5eLG4x",
        "colab": {
          "base_uri": "https://localhost:8080/",
          "height": 386
        },
        "outputId": "aae6247e-db73-43a4-e7c1-9150c21cabf7"
      },
      "execution_count": null,
      "outputs": [
        {
          "output_type": "execute_result",
          "data": {
            "text/plain": [
              "<seaborn.axisgrid.FacetGrid at 0x7f353cdee7d0>"
            ]
          },
          "metadata": {},
          "execution_count": 48
        },
        {
          "output_type": "display_data",
          "data": {
            "text/plain": [
              "<Figure size 360x360 with 1 Axes>"
            ],
            "image/png": "[encoded data removed]"
          },
          "metadata": {
            "needs_background": "light"
          }
        }
      ]
    },
    {
      "cell_type": "markdown",
      "source": [
        "some of the longer distances are covered by either 1 or 2 or 4 or 5 passenger rides."
      ],
      "metadata": {
        "id": "h7HUFjtlL_Jo"
      }
    },
    {
      "cell_type": "markdown",
      "source": [
        "##Distance per day of week"
      ],
      "metadata": {
        "id": "SIgWg7k8MNsi"
      }
    },
    {
      "cell_type": "code",
      "source": [
        "sns.lineplot(x='pickup_day_no',y='distance',data=df)"
      ],
      "metadata": {
        "id": "CJuxYIfPMJHr",
        "colab": {
          "base_uri": "https://localhost:8080/",
          "height": 302
        },
        "outputId": "dcd877db-7012-4b23-8eff-7351fb32749d"
      },
      "execution_count": null,
      "outputs": [
        {
          "output_type": "execute_result",
          "data": {
            "text/plain": [
              "<matplotlib.axes._subplots.AxesSubplot at 0x7f353c5bb950>"
            ]
          },
          "metadata": {},
          "execution_count": 49
        },
        {
          "output_type": "display_data",
          "data": {
            "text/plain": [
              "<Figure size 432x288 with 1 Axes>"
            ],
            "image/png": "[encoded data removed]"
          },
          "metadata": {
            "needs_background": "light"
          }
        }
      ]
    },
    {
      "cell_type": "markdown",
      "source": [
        "\n",
        "\n",
        "1.   Distances are longer on Sundays probably because it’s weekend.\n",
        "\n",
        "2. Monday trip distances are also quite high.\n",
        "\n",
        "3.  This probably means that there can be outstation trips on these days and/or the streets are busier.\n"
      ],
      "metadata": {
        "id": "w6HX1NAxMeYP"
      }
    },
    {
      "cell_type": "markdown",
      "source": [
        "##Distance per hour of day"
      ],
      "metadata": {
        "id": "o-QxeTSnMvf7"
      }
    },
    {
      "cell_type": "code",
      "source": [
        "sns.lineplot(x='pickup_hour',y='distance',data=df)"
      ],
      "metadata": {
        "id": "AC3LSAO_MVUD",
        "colab": {
          "base_uri": "https://localhost:8080/",
          "height": 302
        },
        "outputId": "610eb3bb-b730-4fe5-d484-56531a695cb5"
      },
      "execution_count": null,
      "outputs": [
        {
          "output_type": "execute_result",
          "data": {
            "text/plain": [
              "<matplotlib.axes._subplots.AxesSubplot at 0x7f353c5f6d90>"
            ]
          },
          "metadata": {},
          "execution_count": 50
        },
        {
          "output_type": "display_data",
          "data": {
            "text/plain": [
              "<Figure size 432x288 with 1 Axes>"
            ],
            "image/png": "[encoded data removed]"
          },
          "metadata": {
            "needs_background": "light"
          }
        }
      ]
    },
    {
      "cell_type": "markdown",
      "source": [
        "Distances are the longest around 5 am."
      ],
      "metadata": {
        "id": "lU2k8RQiNMsX"
      }
    },
    {
      "cell_type": "markdown",
      "source": [
        "##Distance per time of day"
      ],
      "metadata": {
        "id": "J1LgAmBjNSEk"
      }
    },
    {
      "cell_type": "code",
      "source": [
        "sns.lineplot(x='pickup_timeofday',y='distance',data=df)"
      ],
      "metadata": {
        "id": "7cTfqgVPNBkv",
        "colab": {
          "base_uri": "https://localhost:8080/",
          "height": 302
        },
        "outputId": "2d3f8b74-0a3a-47c5-a2e4-d2491419b029"
      },
      "execution_count": null,
      "outputs": [
        {
          "output_type": "execute_result",
          "data": {
            "text/plain": [
              "<matplotlib.axes._subplots.AxesSubplot at 0x7f353c346450>"
            ]
          },
          "metadata": {},
          "execution_count": 51
        },
        {
          "output_type": "display_data",
          "data": {
            "text/plain": [
              "<Figure size 432x288 with 1 Axes>"
            ],
            "image/png": "[encoded data removed]"
          },
          "metadata": {
            "needs_background": "light"
          }
        }
      ]
    },
    {
      "cell_type": "markdown",
      "source": [
        "distances being the longest during late night or it maybe called as early morning too.\n",
        "This can probably point to outstation trips where people start early for the day"
      ],
      "metadata": {
        "id": "vlM695ZtNegt"
      }
    },
    {
      "cell_type": "markdown",
      "source": [
        "##Distance per month"
      ],
      "metadata": {
        "id": "RHZClwdINp-m"
      }
    },
    {
      "cell_type": "code",
      "source": [
        "sns.lineplot(x='pickup_month',y='distance',data=df)"
      ],
      "metadata": {
        "id": "J1RYheIwNWjh",
        "colab": {
          "base_uri": "https://localhost:8080/",
          "height": 302
        },
        "outputId": "b1a02e47-8911-4245-f432-65116b2b299a"
      },
      "execution_count": null,
      "outputs": [
        {
          "output_type": "execute_result",
          "data": {
            "text/plain": [
              "<matplotlib.axes._subplots.AxesSubplot at 0x7f353af1d690>"
            ]
          },
          "metadata": {},
          "execution_count": 52
        },
        {
          "output_type": "display_data",
          "data": {
            "text/plain": [
              "<Figure size 432x288 with 1 Axes>"
            ],
            "image/png": "[encoded data removed]"
          },
          "metadata": {
            "needs_background": "light"
          }
        }
      ]
    },
    {
      "cell_type": "markdown",
      "source": [
        "also saw during trip duration per month, similarly trip distance is the lowest in February and the maximum in June"
      ],
      "metadata": {
        "id": "uBC4XuyXN1C1"
      }
    },
    {
      "cell_type": "markdown",
      "source": [
        "##Passenger Count and Vendor id"
      ],
      "metadata": {
        "id": "RpRwcrT1OAn1"
      }
    },
    {
      "cell_type": "code",
      "source": [
        "sns.barplot(y='passenger_count',x='vendor_id',data=df)"
      ],
      "metadata": {
        "id": "cnydXKOENxrl",
        "colab": {
          "base_uri": "https://localhost:8080/",
          "height": 302
        },
        "outputId": "9ad60a9e-91ba-4284-c19d-4908969318d5"
      },
      "execution_count": null,
      "outputs": [
        {
          "output_type": "execute_result",
          "data": {
            "text/plain": [
              "<matplotlib.axes._subplots.AxesSubplot at 0x7f353af26ad0>"
            ]
          },
          "metadata": {},
          "execution_count": 53
        },
        {
          "output_type": "display_data",
          "data": {
            "text/plain": [
              "<Figure size 432x288 with 1 Axes>"
            ],
            "image/png": "[encoded data removed]"
          },
          "metadata": {
            "needs_background": "light"
          }
        }
      ]
    },
    {
      "cell_type": "markdown",
      "source": [
        "This shows that vendor 2 generally carries 2 passengers while vendor 1 carries 1 passenger rides"
      ],
      "metadata": {
        "id": "0TxMMPhmO0NQ"
      }
    },
    {
      "cell_type": "markdown",
      "source": [
        "##Trip Duration and Distance"
      ],
      "metadata": {
        "id": "ETfB1djbO4Sj"
      }
    },
    {
      "cell_type": "code",
      "source": [
        "sns.relplot(y=data.distance,x='trip_duration',data=df)"
      ],
      "metadata": {
        "id": "nYY7vN7JOEBz",
        "colab": {
          "base_uri": "https://localhost:8080/",
          "height": 386
        },
        "outputId": "e769bbf0-1759-46e7-d836-c54c3ab0da9a"
      },
      "execution_count": null,
      "outputs": [
        {
          "output_type": "execute_result",
          "data": {
            "text/plain": [
              "<seaborn.axisgrid.FacetGrid at 0x7f353a85ecd0>"
            ]
          },
          "metadata": {},
          "execution_count": 54
        },
        {
          "output_type": "display_data",
          "data": {
            "text/plain": [
              "<Figure size 360x360 with 1 Axes>"
            ],
            "image/png": "[encoded data removed]"
          },
          "metadata": {
            "needs_background": "light"
          }
        }
      ]
    },
    {
      "cell_type": "markdown",
      "source": [
        "We can see there are trips which trip duration as short as 0 seconds and yet covering a large distance. And, trips with 0 km distance and long trip durations."
      ],
      "metadata": {
        "id": "Wx0Tp2Q4P0pR"
      }
    },
    {
      "cell_type": "markdown",
      "source": [
        "5897 with 0 distence\n"
      ],
      "metadata": {
        "id": "EKu3-axQQLCQ"
      }
    },
    {
      "cell_type": "code",
      "source": [
        "df[df.distance==0]"
      ],
      "metadata": {
        "id": "VQOJ65itPyoy",
        "colab": {
          "base_uri": "https://localhost:8080/",
          "height": 661
        },
        "outputId": "98d28d33-2313-4d47-fc80-0f8bda1cf73a"
      },
      "execution_count": null,
      "outputs": [
        {
          "output_type": "execute_result",
          "data": {
            "text/plain": [
              "                id  vendor_id     pickup_datetime    dropoff_datetime  \\\n",
              "246      id3487442          2 2016-02-29 18:39:12 2016-02-29 18:42:59   \n",
              "291      id0924324          2 2016-05-10 18:07:52 2016-05-10 18:26:21   \n",
              "407      id1145809          2 2016-05-16 23:15:13 2016-05-16 23:31:00   \n",
              "702      id3499387          1 2016-01-25 19:45:12 2016-01-25 19:54:52   \n",
              "1620     id0753277          1 2016-01-27 22:29:31 2016-01-27 22:29:58   \n",
              "...            ...        ...                 ...                 ...   \n",
              "1456399  id0618137          2 2016-02-17 08:57:04 2016-02-17 09:18:28   \n",
              "1456627  id1048767          2 2016-02-06 22:01:40 2016-02-06 22:03:47   \n",
              "1456989  id2595295          2 2016-03-12 07:37:16 2016-03-12 07:46:42   \n",
              "1457114  id0051314          2 2016-04-09 20:34:21 2016-04-09 20:44:53   \n",
              "1457136  id1907784          1 2016-03-25 20:06:52 2016-03-25 20:09:48   \n",
              "\n",
              "         passenger_count  pickup_longitude  pickup_latitude  \\\n",
              "246                    1        -73.981819        40.768963   \n",
              "291                    2        -73.959068        40.775661   \n",
              "407                    6        -73.808487        40.687336   \n",
              "702                    1        -73.786720        40.647041   \n",
              "1620                   1        -74.209854        40.816853   \n",
              "...                  ...               ...              ...   \n",
              "1456399                1        -73.978859        40.756721   \n",
              "1456627                1        -73.963554        40.768517   \n",
              "1456989                1        -73.984848        40.728222   \n",
              "1457114                1        -73.965981        40.770988   \n",
              "1457136                1        -73.966705        40.769783   \n",
              "\n",
              "         dropoff_longitude  dropoff_latitude store_and_fwd_flag  ...  \\\n",
              "246             -73.981819         40.768963                  N  ...   \n",
              "291             -73.959068         40.775661                  N  ...   \n",
              "407             -73.808487         40.687336                  N  ...   \n",
              "702             -73.786720         40.647041                  N  ...   \n",
              "1620            -74.209854         40.816853                  N  ...   \n",
              "...                    ...               ...                ...  ...   \n",
              "1456399         -73.978859         40.756721                  N  ...   \n",
              "1456627         -73.963554         40.768517                  N  ...   \n",
              "1456989         -73.984848         40.728222                  N  ...   \n",
              "1457114         -73.965981         40.770988                  N  ...   \n",
              "1457136         -73.966705         40.769783                  N  ...   \n",
              "\n",
              "         dropoff_day pickup_day_no dropoff_day_no  pickup_hour  dropoff_hour  \\\n",
              "246           Monday             0              0           18            18   \n",
              "291          Tuesday             1              1           18            18   \n",
              "407           Monday             0              0           23            23   \n",
              "702           Monday             0              0           19            19   \n",
              "1620       Wednesday             2              2           22            22   \n",
              "...              ...           ...            ...          ...           ...   \n",
              "1456399    Wednesday             2              2            8             9   \n",
              "1456627     Saturday             5              5           22            22   \n",
              "1456989     Saturday             5              5            7             7   \n",
              "1457114     Saturday             5              5           20            20   \n",
              "1457136       Friday             4              4           20            20   \n",
              "\n",
              "         pickup_month  dropoff_month  pickup_timeofday  dropoff_timeofday  \\\n",
              "246                 2              2           Evening            Evening   \n",
              "291                 5              5           Evening            Evening   \n",
              "407                 5              5        Late night         Late night   \n",
              "702                 1              1           Evening            Evening   \n",
              "1620                1              1        Late night         Late night   \n",
              "...               ...            ...               ...                ...   \n",
              "1456399             2              2           Morning            Morning   \n",
              "1456627             2              2        Late night         Late night   \n",
              "1456989             3              3           Morning            Morning   \n",
              "1457114             4              4           Evening            Evening   \n",
              "1457136             3              3           Evening            Evening   \n",
              "\n",
              "        distance  \n",
              "246          0.0  \n",
              "291          0.0  \n",
              "407          0.0  \n",
              "702          0.0  \n",
              "1620         0.0  \n",
              "...          ...  \n",
              "1456399      0.0  \n",
              "1456627      0.0  \n",
              "1456989      0.0  \n",
              "1457114      0.0  \n",
              "1457136      0.0  \n",
              "\n",
              "[5897 rows x 22 columns]"
            ],
            "text/html": [
              "\n",
              "  <div id=\"df-2397ec13-a853-4823-b562-c0069fe9cb08\">\n",
              "    <div class=\"colab-df-container\">\n",
              "      <div>\n",
              "<style scoped>\n",
              "    .dataframe tbody tr th:only-of-type {\n",
              "        vertical-align: middle;\n",
              "    }\n",
              "\n",
              "    .dataframe tbody tr th {\n",
              "        vertical-align: top;\n",
              "    }\n",
              "\n",
              "    .dataframe thead th {\n",
              "        text-align: right;\n",
              "    }\n",
              "</style>\n",
              "<table border=\"1\" class=\"dataframe\">\n",
              "  <thead>\n",
              "    <tr style=\"text-align: right;\">\n",
              "      <th></th>\n",
              "      <th>id</th>\n",
              "      <th>vendor_id</th>\n",
              "      <th>pickup_datetime</th>\n",
              "      <th>dropoff_datetime</th>\n",
              "      <th>passenger_count</th>\n",
              "      <th>pickup_longitude</th>\n",
              "      <th>pickup_latitude</th>\n",
              "      <th>dropoff_longitude</th>\n",
              "      <th>dropoff_latitude</th>\n",
              "      <th>store_and_fwd_flag</th>\n",
              "      <th>...</th>\n",
              "      <th>dropoff_day</th>\n",
              "      <th>pickup_day_no</th>\n",
              "      <th>dropoff_day_no</th>\n",
              "      <th>pickup_hour</th>\n",
              "      <th>dropoff_hour</th>\n",
              "      <th>pickup_month</th>\n",
              "      <th>dropoff_month</th>\n",
              "      <th>pickup_timeofday</th>\n",
              "      <th>dropoff_timeofday</th>\n",
              "      <th>distance</th>\n",
              "    </tr>\n",
              "  </thead>\n",
              "  <tbody>\n",
              "    <tr>\n",
              "      <th>246</th>\n",
              "      <td>id3487442</td>\n",
              "      <td>2</td>\n",
              "      <td>2016-02-29 18:39:12</td>\n",
              "      <td>2016-02-29 18:42:59</td>\n",
              "      <td>1</td>\n",
              "      <td>-73.981819</td>\n",
              "      <td>40.768963</td>\n",
              "      <td>-73.981819</td>\n",
              "      <td>40.768963</td>\n",
              "      <td>N</td>\n",
              "      <td>...</td>\n",
              "      <td>Monday</td>\n",
              "      <td>0</td>\n",
              "      <td>0</td>\n",
              "      <td>18</td>\n",
              "      <td>18</td>\n",
              "      <td>2</td>\n",
              "      <td>2</td>\n",
              "      <td>Evening</td>\n",
              "      <td>Evening</td>\n",
              "      <td>0.0</td>\n",
              "    </tr>\n",
              "    <tr>\n",
              "      <th>291</th>\n",
              "      <td>id0924324</td>\n",
              "      <td>2</td>\n",
              "      <td>2016-05-10 18:07:52</td>\n",
              "      <td>2016-05-10 18:26:21</td>\n",
              "      <td>2</td>\n",
              "      <td>-73.959068</td>\n",
              "      <td>40.775661</td>\n",
              "      <td>-73.959068</td>\n",
              "      <td>40.775661</td>\n",
              "      <td>N</td>\n",
              "      <td>...</td>\n",
              "      <td>Tuesday</td>\n",
              "      <td>1</td>\n",
              "      <td>1</td>\n",
              "      <td>18</td>\n",
              "      <td>18</td>\n",
              "      <td>5</td>\n",
              "      <td>5</td>\n",
              "      <td>Evening</td>\n",
              "      <td>Evening</td>\n",
              "      <td>0.0</td>\n",
              "    </tr>\n",
              "    <tr>\n",
              "      <th>407</th>\n",
              "      <td>id1145809</td>\n",
              "      <td>2</td>\n",
              "      <td>2016-05-16 23:15:13</td>\n",
              "      <td>2016-05-16 23:31:00</td>\n",
              "      <td>6</td>\n",
              "      <td>-73.808487</td>\n",
              "      <td>40.687336</td>\n",
              "      <td>-73.808487</td>\n",
              "      <td>40.687336</td>\n",
              "      <td>N</td>\n",
              "      <td>...</td>\n",
              "      <td>Monday</td>\n",
              "      <td>0</td>\n",
              "      <td>0</td>\n",
              "      <td>23</td>\n",
              "      <td>23</td>\n",
              "      <td>5</td>\n",
              "      <td>5</td>\n",
              "      <td>Late night</td>\n",
              "      <td>Late night</td>\n",
              "      <td>0.0</td>\n",
              "    </tr>\n",
              "    <tr>\n",
              "      <th>702</th>\n",
              "      <td>id3499387</td>\n",
              "      <td>1</td>\n",
              "      <td>2016-01-25 19:45:12</td>\n",
              "      <td>2016-01-25 19:54:52</td>\n",
              "      <td>1</td>\n",
              "      <td>-73.786720</td>\n",
              "      <td>40.647041</td>\n",
              "      <td>-73.786720</td>\n",
              "      <td>40.647041</td>\n",
              "      <td>N</td>\n",
              "      <td>...</td>\n",
              "      <td>Monday</td>\n",
              "      <td>0</td>\n",
              "      <td>0</td>\n",
              "      <td>19</td>\n",
              "      <td>19</td>\n",
              "      <td>1</td>\n",
              "      <td>1</td>\n",
              "      <td>Evening</td>\n",
              "      <td>Evening</td>\n",
              "      <td>0.0</td>\n",
              "    </tr>\n",
              "    <tr>\n",
              "      <th>1620</th>\n",
              "      <td>id0753277</td>\n",
              "      <td>1</td>\n",
              "      <td>2016-01-27 22:29:31</td>\n",
              "      <td>2016-01-27 22:29:58</td>\n",
              "      <td>1</td>\n",
              "      <td>-74.209854</td>\n",
              "      <td>40.816853</td>\n",
              "      <td>-74.209854</td>\n",
              "      <td>40.816853</td>\n",
              "      <td>N</td>\n",
              "      <td>...</td>\n",
              "      <td>Wednesday</td>\n",
              "      <td>2</td>\n",
              "      <td>2</td>\n",
              "      <td>22</td>\n",
              "      <td>22</td>\n",
              "      <td>1</td>\n",
              "      <td>1</td>\n",
              "      <td>Late night</td>\n",
              "      <td>Late night</td>\n",
              "      <td>0.0</td>\n",
              "    </tr>\n",
              "    <tr>\n",
              "      <th>...</th>\n",
              "      <td>...</td>\n",
              "      <td>...</td>\n",
              "      <td>...</td>\n",
              "      <td>...</td>\n",
              "      <td>...</td>\n",
              "      <td>...</td>\n",
              "      <td>...</td>\n",
              "      <td>...</td>\n",
              "      <td>...</td>\n",
              "      <td>...</td>\n",
              "      <td>...</td>\n",
              "      <td>...</td>\n",
              "      <td>...</td>\n",
              "      <td>...</td>\n",
              "      <td>...</td>\n",
              "      <td>...</td>\n",
              "      <td>...</td>\n",
              "      <td>...</td>\n",
              "      <td>...</td>\n",
              "      <td>...</td>\n",
              "      <td>...</td>\n",
              "    </tr>\n",
              "    <tr>\n",
              "      <th>1456399</th>\n",
              "      <td>id0618137</td>\n",
              "      <td>2</td>\n",
              "      <td>2016-02-17 08:57:04</td>\n",
              "      <td>2016-02-17 09:18:28</td>\n",
              "      <td>1</td>\n",
              "      <td>-73.978859</td>\n",
              "      <td>40.756721</td>\n",
              "      <td>-73.978859</td>\n",
              "      <td>40.756721</td>\n",
              "      <td>N</td>\n",
              "      <td>...</td>\n",
              "      <td>Wednesday</td>\n",
              "      <td>2</td>\n",
              "      <td>2</td>\n",
              "      <td>8</td>\n",
              "      <td>9</td>\n",
              "      <td>2</td>\n",
              "      <td>2</td>\n",
              "      <td>Morning</td>\n",
              "      <td>Morning</td>\n",
              "      <td>0.0</td>\n",
              "    </tr>\n",
              "    <tr>\n",
              "      <th>1456627</th>\n",
              "      <td>id1048767</td>\n",
              "      <td>2</td>\n",
              "      <td>2016-02-06 22:01:40</td>\n",
              "      <td>2016-02-06 22:03:47</td>\n",
              "      <td>1</td>\n",
              "      <td>-73.963554</td>\n",
              "      <td>40.768517</td>\n",
              "      <td>-73.963554</td>\n",
              "      <td>40.768517</td>\n",
              "      <td>N</td>\n",
              "      <td>...</td>\n",
              "      <td>Saturday</td>\n",
              "      <td>5</td>\n",
              "      <td>5</td>\n",
              "      <td>22</td>\n",
              "      <td>22</td>\n",
              "      <td>2</td>\n",
              "      <td>2</td>\n",
              "      <td>Late night</td>\n",
              "      <td>Late night</td>\n",
              "      <td>0.0</td>\n",
              "    </tr>\n",
              "    <tr>\n",
              "      <th>1456989</th>\n",
              "      <td>id2595295</td>\n",
              "      <td>2</td>\n",
              "      <td>2016-03-12 07:37:16</td>\n",
              "      <td>2016-03-12 07:46:42</td>\n",
              "      <td>1</td>\n",
              "      <td>-73.984848</td>\n",
              "      <td>40.728222</td>\n",
              "      <td>-73.984848</td>\n",
              "      <td>40.728222</td>\n",
              "      <td>N</td>\n",
              "      <td>...</td>\n",
              "      <td>Saturday</td>\n",
              "      <td>5</td>\n",
              "      <td>5</td>\n",
              "      <td>7</td>\n",
              "      <td>7</td>\n",
              "      <td>3</td>\n",
              "      <td>3</td>\n",
              "      <td>Morning</td>\n",
              "      <td>Morning</td>\n",
              "      <td>0.0</td>\n",
              "    </tr>\n",
              "    <tr>\n",
              "      <th>1457114</th>\n",
              "      <td>id0051314</td>\n",
              "      <td>2</td>\n",
              "      <td>2016-04-09 20:34:21</td>\n",
              "      <td>2016-04-09 20:44:53</td>\n",
              "      <td>1</td>\n",
              "      <td>-73.965981</td>\n",
              "      <td>40.770988</td>\n",
              "      <td>-73.965981</td>\n",
              "      <td>40.770988</td>\n",
              "      <td>N</td>\n",
              "      <td>...</td>\n",
              "      <td>Saturday</td>\n",
              "      <td>5</td>\n",
              "      <td>5</td>\n",
              "      <td>20</td>\n",
              "      <td>20</td>\n",
              "      <td>4</td>\n",
              "      <td>4</td>\n",
              "      <td>Evening</td>\n",
              "      <td>Evening</td>\n",
              "      <td>0.0</td>\n",
              "    </tr>\n",
              "    <tr>\n",
              "      <th>1457136</th>\n",
              "      <td>id1907784</td>\n",
              "      <td>1</td>\n",
              "      <td>2016-03-25 20:06:52</td>\n",
              "      <td>2016-03-25 20:09:48</td>\n",
              "      <td>1</td>\n",
              "      <td>-73.966705</td>\n",
              "      <td>40.769783</td>\n",
              "      <td>-73.966705</td>\n",
              "      <td>40.769783</td>\n",
              "      <td>N</td>\n",
              "      <td>...</td>\n",
              "      <td>Friday</td>\n",
              "      <td>4</td>\n",
              "      <td>4</td>\n",
              "      <td>20</td>\n",
              "      <td>20</td>\n",
              "      <td>3</td>\n",
              "      <td>3</td>\n",
              "      <td>Evening</td>\n",
              "      <td>Evening</td>\n",
              "      <td>0.0</td>\n",
              "    </tr>\n",
              "  </tbody>\n",
              "</table>\n",
              "<p>5897 rows × 22 columns</p>\n",
              "</div>\n",
              "      <button class=\"colab-df-convert\" onclick=\"convertToInteractive('df-2397ec13-a853-4823-b562-c0069fe9cb08')\"\n",
              "              title=\"Convert this dataframe to an interactive table.\"\n",
              "              style=\"display:none;\">\n",
              "        \n",
              "  <svg xmlns=\"http://www.w3.org/2000/svg\" height=\"24px\"viewBox=\"0 0 24 24\"\n",
              "       width=\"24px\">\n",
              "    <path d=\"M0 0h24v24H0V0z\" fill=\"none\"/>\n",
              "    <path d=\"M18.56 5.44l.94 2.06.94-2.06 2.06-.94-2.06-.94-.94-2.06-.94 2.06-2.06.94zm-11 1L8.5 8.5l.94-2.06 2.06-.94-2.06-.94L8.5 2.5l-.94 2.06-2.06.94zm10 10l.94 2.06.94-2.06 2.06-.94-2.06-.94-.94-2.06-.94 2.06-2.06.94z\"/><path d=\"M17.41 7.96l-1.37-1.37c-.4-.4-.92-.59-1.43-.59-.52 0-1.04.2-1.43.59L10.3 9.45l-7.72 7.72c-.78.78-.78 2.05 0 2.83L4 21.41c.39.39.9.59 1.41.59.51 0 1.02-.2 1.41-.59l7.78-7.78 2.81-2.81c.8-.78.8-2.07 0-2.86zM5.41 20L4 18.59l7.72-7.72 1.47 1.35L5.41 20z\"/>\n",
              "  </svg>\n",
              "      </button>\n",
              "      \n",
              "  <style>\n",
              "    .colab-df-container {\n",
              "      display:flex;\n",
              "      flex-wrap:wrap;\n",
              "      gap: 12px;\n",
              "    }\n",
              "\n",
              "    .colab-df-convert {\n",
              "      background-color: #E8F0FE;\n",
              "      border: none;\n",
              "      border-radius: 50%;\n",
              "      cursor: pointer;\n",
              "      display: none;\n",
              "      fill: #1967D2;\n",
              "      height: 32px;\n",
              "      padding: 0 0 0 0;\n",
              "      width: 32px;\n",
              "    }\n",
              "\n",
              "    .colab-df-convert:hover {\n",
              "      background-color: #E2EBFA;\n",
              "      box-shadow: 0px 1px 2px rgba(60, 64, 67, 0.3), 0px 1px 3px 1px rgba(60, 64, 67, 0.15);\n",
              "      fill: #174EA6;\n",
              "    }\n",
              "\n",
              "    [theme=dark] .colab-df-convert {\n",
              "      background-color: #3B4455;\n",
              "      fill: #D2E3FC;\n",
              "    }\n",
              "\n",
              "    [theme=dark] .colab-df-convert:hover {\n",
              "      background-color: #434B5C;\n",
              "      box-shadow: 0px 1px 3px 1px rgba(0, 0, 0, 0.15);\n",
              "      filter: drop-shadow(0px 1px 2px rgba(0, 0, 0, 0.3));\n",
              "      fill: #FFFFFF;\n",
              "    }\n",
              "  </style>\n",
              "\n",
              "      <script>\n",
              "        const buttonEl =\n",
              "          document.querySelector('#df-2397ec13-a853-4823-b562-c0069fe9cb08 button.colab-df-convert');\n",
              "        buttonEl.style.display =\n",
              "          google.colab.kernel.accessAllowed ? 'block' : 'none';\n",
              "\n",
              "        async function convertToInteractive(key) {\n",
              "          const element = document.querySelector('#df-2397ec13-a853-4823-b562-c0069fe9cb08');\n",
              "          const dataTable =\n",
              "            await google.colab.kernel.invokeFunction('convertToInteractive',\n",
              "                                                     [key], {});\n",
              "          if (!dataTable) return;\n",
              "\n",
              "          const docLinkHtml = 'Like what you see? Visit the ' +\n",
              "            '<a target=\"_blank\" href=https://colab.research.google.com/notebooks/data_table.ipynb>data table notebook</a>'\n",
              "            + ' to learn more about interactive tables.';\n",
              "          element.innerHTML = '';\n",
              "          dataTable['output_type'] = 'display_data';\n",
              "          await google.colab.output.renderOutput(dataTable, element);\n",
              "          const docLink = document.createElement('div');\n",
              "          docLink.innerHTML = docLinkHtml;\n",
              "          element.appendChild(docLink);\n",
              "        }\n",
              "      </script>\n",
              "    </div>\n",
              "  </div>\n",
              "  "
            ]
          },
          "metadata": {},
          "execution_count": 55
        }
      ]
    },
    {
      "cell_type": "markdown",
      "source": [
        "even though distance is recorded as 0 but trip duration is definitely more.\n",
        "\n",
        "One reason can be that the dropoff coordinates weren’t recorded.\n",
        "\n",
        "Another reason one can think is that for short trip durations, maybe the passenger changed their mind and cancelled the ride after some time.\n",
        " \n",
        "\n",
        " \n",
        "\n",
        "So, we see how Exploratory Data Analysis helps us identify underlying patterns in the data, let us draw out conclusions and this even serves as the basis of feature engineering before we start building our model."
      ],
      "metadata": {
        "id": "m6HJq4ZJQhh4"
      }
    },
    {
      "cell_type": "markdown",
      "source": [
        "#***THANK YOU***"
      ],
      "metadata": {
        "id": "TrRAkf7BQpTV"
      }
    }
  ]
}